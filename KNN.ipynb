{
 "cells": [
  {
   "cell_type": "code",
   "execution_count": 1,
   "id": "d1e4cadb",
   "metadata": {},
   "outputs": [],
   "source": [
    "#import library\n",
    "import numpy as np\n",
    "import matplotlib.pyplot as plt\n",
    "import numpy.random as npr\n",
    "import pandas as pd"
   ]
  },
  {
   "cell_type": "code",
   "execution_count": 2,
   "id": "95fae213",
   "metadata": {},
   "outputs": [
    {
     "name": "stdout",
     "output_type": "stream",
     "text": [
      "C:\\Users\\Hp i5\\Downloads\n"
     ]
    }
   ],
   "source": [
    "cd C:\\Users\\Hp i5\\Downloads"
   ]
  },
  {
   "cell_type": "code",
   "execution_count": 3,
   "id": "b01ca778",
   "metadata": {},
   "outputs": [
    {
     "data": {
      "text/html": [
       "<div>\n",
       "<style scoped>\n",
       "    .dataframe tbody tr th:only-of-type {\n",
       "        vertical-align: middle;\n",
       "    }\n",
       "\n",
       "    .dataframe tbody tr th {\n",
       "        vertical-align: top;\n",
       "    }\n",
       "\n",
       "    .dataframe thead th {\n",
       "        text-align: right;\n",
       "    }\n",
       "</style>\n",
       "<table border=\"1\" class=\"dataframe\">\n",
       "  <thead>\n",
       "    <tr style=\"text-align: right;\">\n",
       "      <th></th>\n",
       "      <th>age</th>\n",
       "      <th>sex</th>\n",
       "      <th>cp</th>\n",
       "      <th>trestbps</th>\n",
       "      <th>chol</th>\n",
       "      <th>fbs</th>\n",
       "      <th>restecg</th>\n",
       "      <th>thalach</th>\n",
       "      <th>exang</th>\n",
       "      <th>oldpeak</th>\n",
       "      <th>slope</th>\n",
       "      <th>ca</th>\n",
       "      <th>thal</th>\n",
       "      <th>target</th>\n",
       "    </tr>\n",
       "  </thead>\n",
       "  <tbody>\n",
       "    <tr>\n",
       "      <th>0</th>\n",
       "      <td>63</td>\n",
       "      <td>1</td>\n",
       "      <td>3</td>\n",
       "      <td>145</td>\n",
       "      <td>233</td>\n",
       "      <td>1</td>\n",
       "      <td>0</td>\n",
       "      <td>150</td>\n",
       "      <td>0</td>\n",
       "      <td>2.3</td>\n",
       "      <td>0</td>\n",
       "      <td>0</td>\n",
       "      <td>1</td>\n",
       "      <td>1</td>\n",
       "    </tr>\n",
       "    <tr>\n",
       "      <th>1</th>\n",
       "      <td>37</td>\n",
       "      <td>1</td>\n",
       "      <td>2</td>\n",
       "      <td>130</td>\n",
       "      <td>250</td>\n",
       "      <td>0</td>\n",
       "      <td>1</td>\n",
       "      <td>187</td>\n",
       "      <td>0</td>\n",
       "      <td>3.5</td>\n",
       "      <td>0</td>\n",
       "      <td>0</td>\n",
       "      <td>2</td>\n",
       "      <td>1</td>\n",
       "    </tr>\n",
       "    <tr>\n",
       "      <th>2</th>\n",
       "      <td>41</td>\n",
       "      <td>0</td>\n",
       "      <td>1</td>\n",
       "      <td>130</td>\n",
       "      <td>204</td>\n",
       "      <td>0</td>\n",
       "      <td>0</td>\n",
       "      <td>172</td>\n",
       "      <td>0</td>\n",
       "      <td>1.4</td>\n",
       "      <td>2</td>\n",
       "      <td>0</td>\n",
       "      <td>2</td>\n",
       "      <td>1</td>\n",
       "    </tr>\n",
       "    <tr>\n",
       "      <th>3</th>\n",
       "      <td>56</td>\n",
       "      <td>1</td>\n",
       "      <td>1</td>\n",
       "      <td>120</td>\n",
       "      <td>236</td>\n",
       "      <td>0</td>\n",
       "      <td>1</td>\n",
       "      <td>178</td>\n",
       "      <td>0</td>\n",
       "      <td>0.8</td>\n",
       "      <td>2</td>\n",
       "      <td>0</td>\n",
       "      <td>2</td>\n",
       "      <td>1</td>\n",
       "    </tr>\n",
       "    <tr>\n",
       "      <th>4</th>\n",
       "      <td>57</td>\n",
       "      <td>0</td>\n",
       "      <td>0</td>\n",
       "      <td>120</td>\n",
       "      <td>354</td>\n",
       "      <td>0</td>\n",
       "      <td>1</td>\n",
       "      <td>163</td>\n",
       "      <td>1</td>\n",
       "      <td>0.6</td>\n",
       "      <td>2</td>\n",
       "      <td>0</td>\n",
       "      <td>2</td>\n",
       "      <td>1</td>\n",
       "    </tr>\n",
       "    <tr>\n",
       "      <th>...</th>\n",
       "      <td>...</td>\n",
       "      <td>...</td>\n",
       "      <td>...</td>\n",
       "      <td>...</td>\n",
       "      <td>...</td>\n",
       "      <td>...</td>\n",
       "      <td>...</td>\n",
       "      <td>...</td>\n",
       "      <td>...</td>\n",
       "      <td>...</td>\n",
       "      <td>...</td>\n",
       "      <td>...</td>\n",
       "      <td>...</td>\n",
       "      <td>...</td>\n",
       "    </tr>\n",
       "    <tr>\n",
       "      <th>298</th>\n",
       "      <td>57</td>\n",
       "      <td>0</td>\n",
       "      <td>0</td>\n",
       "      <td>140</td>\n",
       "      <td>241</td>\n",
       "      <td>0</td>\n",
       "      <td>1</td>\n",
       "      <td>123</td>\n",
       "      <td>1</td>\n",
       "      <td>0.2</td>\n",
       "      <td>1</td>\n",
       "      <td>0</td>\n",
       "      <td>3</td>\n",
       "      <td>0</td>\n",
       "    </tr>\n",
       "    <tr>\n",
       "      <th>299</th>\n",
       "      <td>45</td>\n",
       "      <td>1</td>\n",
       "      <td>3</td>\n",
       "      <td>110</td>\n",
       "      <td>264</td>\n",
       "      <td>0</td>\n",
       "      <td>1</td>\n",
       "      <td>132</td>\n",
       "      <td>0</td>\n",
       "      <td>1.2</td>\n",
       "      <td>1</td>\n",
       "      <td>0</td>\n",
       "      <td>3</td>\n",
       "      <td>0</td>\n",
       "    </tr>\n",
       "    <tr>\n",
       "      <th>300</th>\n",
       "      <td>68</td>\n",
       "      <td>1</td>\n",
       "      <td>0</td>\n",
       "      <td>144</td>\n",
       "      <td>193</td>\n",
       "      <td>1</td>\n",
       "      <td>1</td>\n",
       "      <td>141</td>\n",
       "      <td>0</td>\n",
       "      <td>3.4</td>\n",
       "      <td>1</td>\n",
       "      <td>2</td>\n",
       "      <td>3</td>\n",
       "      <td>0</td>\n",
       "    </tr>\n",
       "    <tr>\n",
       "      <th>301</th>\n",
       "      <td>57</td>\n",
       "      <td>1</td>\n",
       "      <td>0</td>\n",
       "      <td>130</td>\n",
       "      <td>131</td>\n",
       "      <td>0</td>\n",
       "      <td>1</td>\n",
       "      <td>115</td>\n",
       "      <td>1</td>\n",
       "      <td>1.2</td>\n",
       "      <td>1</td>\n",
       "      <td>1</td>\n",
       "      <td>3</td>\n",
       "      <td>0</td>\n",
       "    </tr>\n",
       "    <tr>\n",
       "      <th>302</th>\n",
       "      <td>57</td>\n",
       "      <td>0</td>\n",
       "      <td>1</td>\n",
       "      <td>130</td>\n",
       "      <td>236</td>\n",
       "      <td>0</td>\n",
       "      <td>0</td>\n",
       "      <td>174</td>\n",
       "      <td>0</td>\n",
       "      <td>0.0</td>\n",
       "      <td>1</td>\n",
       "      <td>1</td>\n",
       "      <td>2</td>\n",
       "      <td>0</td>\n",
       "    </tr>\n",
       "  </tbody>\n",
       "</table>\n",
       "<p>303 rows × 14 columns</p>\n",
       "</div>"
      ],
      "text/plain": [
       "     age  sex  cp  trestbps  chol  fbs  restecg  thalach  exang  oldpeak  \\\n",
       "0     63    1   3       145   233    1        0      150      0      2.3   \n",
       "1     37    1   2       130   250    0        1      187      0      3.5   \n",
       "2     41    0   1       130   204    0        0      172      0      1.4   \n",
       "3     56    1   1       120   236    0        1      178      0      0.8   \n",
       "4     57    0   0       120   354    0        1      163      1      0.6   \n",
       "..   ...  ...  ..       ...   ...  ...      ...      ...    ...      ...   \n",
       "298   57    0   0       140   241    0        1      123      1      0.2   \n",
       "299   45    1   3       110   264    0        1      132      0      1.2   \n",
       "300   68    1   0       144   193    1        1      141      0      3.4   \n",
       "301   57    1   0       130   131    0        1      115      1      1.2   \n",
       "302   57    0   1       130   236    0        0      174      0      0.0   \n",
       "\n",
       "     slope  ca  thal  target  \n",
       "0        0   0     1       1  \n",
       "1        0   0     2       1  \n",
       "2        2   0     2       1  \n",
       "3        2   0     2       1  \n",
       "4        2   0     2       1  \n",
       "..     ...  ..   ...     ...  \n",
       "298      1   0     3       0  \n",
       "299      1   0     3       0  \n",
       "300      1   2     3       0  \n",
       "301      1   1     3       0  \n",
       "302      1   1     2       0  \n",
       "\n",
       "[303 rows x 14 columns]"
      ]
     },
     "execution_count": 3,
     "metadata": {},
     "output_type": "execute_result"
    }
   ],
   "source": [
    "#read file\n",
    "ht = pd.read_csv(\"heart_disease1.csv\")\n",
    "ht"
   ]
  },
  {
   "cell_type": "code",
   "execution_count": 4,
   "id": "6456264d",
   "metadata": {},
   "outputs": [
    {
     "data": {
      "text/html": [
       "<div>\n",
       "<style scoped>\n",
       "    .dataframe tbody tr th:only-of-type {\n",
       "        vertical-align: middle;\n",
       "    }\n",
       "\n",
       "    .dataframe tbody tr th {\n",
       "        vertical-align: top;\n",
       "    }\n",
       "\n",
       "    .dataframe thead th {\n",
       "        text-align: right;\n",
       "    }\n",
       "</style>\n",
       "<table border=\"1\" class=\"dataframe\">\n",
       "  <thead>\n",
       "    <tr style=\"text-align: right;\">\n",
       "      <th></th>\n",
       "      <th>age</th>\n",
       "      <th>sex</th>\n",
       "      <th>cp</th>\n",
       "      <th>trestbps</th>\n",
       "      <th>chol</th>\n",
       "      <th>fbs</th>\n",
       "      <th>restecg</th>\n",
       "      <th>thalach</th>\n",
       "      <th>exang</th>\n",
       "      <th>oldpeak</th>\n",
       "      <th>slope</th>\n",
       "      <th>ca</th>\n",
       "      <th>thal</th>\n",
       "      <th>target</th>\n",
       "    </tr>\n",
       "  </thead>\n",
       "  <tbody>\n",
       "    <tr>\n",
       "      <th>0</th>\n",
       "      <td>63</td>\n",
       "      <td>1</td>\n",
       "      <td>3</td>\n",
       "      <td>145</td>\n",
       "      <td>233</td>\n",
       "      <td>1</td>\n",
       "      <td>0</td>\n",
       "      <td>150</td>\n",
       "      <td>0</td>\n",
       "      <td>2.3</td>\n",
       "      <td>0</td>\n",
       "      <td>0</td>\n",
       "      <td>1</td>\n",
       "      <td>1</td>\n",
       "    </tr>\n",
       "    <tr>\n",
       "      <th>1</th>\n",
       "      <td>37</td>\n",
       "      <td>1</td>\n",
       "      <td>2</td>\n",
       "      <td>130</td>\n",
       "      <td>250</td>\n",
       "      <td>0</td>\n",
       "      <td>1</td>\n",
       "      <td>187</td>\n",
       "      <td>0</td>\n",
       "      <td>3.5</td>\n",
       "      <td>0</td>\n",
       "      <td>0</td>\n",
       "      <td>2</td>\n",
       "      <td>1</td>\n",
       "    </tr>\n",
       "    <tr>\n",
       "      <th>2</th>\n",
       "      <td>41</td>\n",
       "      <td>0</td>\n",
       "      <td>1</td>\n",
       "      <td>130</td>\n",
       "      <td>204</td>\n",
       "      <td>0</td>\n",
       "      <td>0</td>\n",
       "      <td>172</td>\n",
       "      <td>0</td>\n",
       "      <td>1.4</td>\n",
       "      <td>2</td>\n",
       "      <td>0</td>\n",
       "      <td>2</td>\n",
       "      <td>1</td>\n",
       "    </tr>\n",
       "    <tr>\n",
       "      <th>3</th>\n",
       "      <td>56</td>\n",
       "      <td>1</td>\n",
       "      <td>1</td>\n",
       "      <td>120</td>\n",
       "      <td>236</td>\n",
       "      <td>0</td>\n",
       "      <td>1</td>\n",
       "      <td>178</td>\n",
       "      <td>0</td>\n",
       "      <td>0.8</td>\n",
       "      <td>2</td>\n",
       "      <td>0</td>\n",
       "      <td>2</td>\n",
       "      <td>1</td>\n",
       "    </tr>\n",
       "    <tr>\n",
       "      <th>4</th>\n",
       "      <td>57</td>\n",
       "      <td>0</td>\n",
       "      <td>0</td>\n",
       "      <td>120</td>\n",
       "      <td>354</td>\n",
       "      <td>0</td>\n",
       "      <td>1</td>\n",
       "      <td>163</td>\n",
       "      <td>1</td>\n",
       "      <td>0.6</td>\n",
       "      <td>2</td>\n",
       "      <td>0</td>\n",
       "      <td>2</td>\n",
       "      <td>1</td>\n",
       "    </tr>\n",
       "    <tr>\n",
       "      <th>5</th>\n",
       "      <td>57</td>\n",
       "      <td>1</td>\n",
       "      <td>0</td>\n",
       "      <td>140</td>\n",
       "      <td>192</td>\n",
       "      <td>0</td>\n",
       "      <td>1</td>\n",
       "      <td>148</td>\n",
       "      <td>0</td>\n",
       "      <td>0.4</td>\n",
       "      <td>1</td>\n",
       "      <td>0</td>\n",
       "      <td>1</td>\n",
       "      <td>1</td>\n",
       "    </tr>\n",
       "    <tr>\n",
       "      <th>6</th>\n",
       "      <td>56</td>\n",
       "      <td>0</td>\n",
       "      <td>1</td>\n",
       "      <td>140</td>\n",
       "      <td>294</td>\n",
       "      <td>0</td>\n",
       "      <td>0</td>\n",
       "      <td>153</td>\n",
       "      <td>0</td>\n",
       "      <td>1.3</td>\n",
       "      <td>1</td>\n",
       "      <td>0</td>\n",
       "      <td>2</td>\n",
       "      <td>1</td>\n",
       "    </tr>\n",
       "    <tr>\n",
       "      <th>7</th>\n",
       "      <td>44</td>\n",
       "      <td>1</td>\n",
       "      <td>1</td>\n",
       "      <td>120</td>\n",
       "      <td>263</td>\n",
       "      <td>0</td>\n",
       "      <td>1</td>\n",
       "      <td>173</td>\n",
       "      <td>0</td>\n",
       "      <td>0.0</td>\n",
       "      <td>2</td>\n",
       "      <td>0</td>\n",
       "      <td>3</td>\n",
       "      <td>1</td>\n",
       "    </tr>\n",
       "    <tr>\n",
       "      <th>8</th>\n",
       "      <td>52</td>\n",
       "      <td>1</td>\n",
       "      <td>2</td>\n",
       "      <td>172</td>\n",
       "      <td>199</td>\n",
       "      <td>1</td>\n",
       "      <td>1</td>\n",
       "      <td>162</td>\n",
       "      <td>0</td>\n",
       "      <td>0.5</td>\n",
       "      <td>2</td>\n",
       "      <td>0</td>\n",
       "      <td>3</td>\n",
       "      <td>1</td>\n",
       "    </tr>\n",
       "    <tr>\n",
       "      <th>9</th>\n",
       "      <td>57</td>\n",
       "      <td>1</td>\n",
       "      <td>2</td>\n",
       "      <td>150</td>\n",
       "      <td>168</td>\n",
       "      <td>0</td>\n",
       "      <td>1</td>\n",
       "      <td>174</td>\n",
       "      <td>0</td>\n",
       "      <td>1.6</td>\n",
       "      <td>2</td>\n",
       "      <td>0</td>\n",
       "      <td>2</td>\n",
       "      <td>1</td>\n",
       "    </tr>\n",
       "  </tbody>\n",
       "</table>\n",
       "</div>"
      ],
      "text/plain": [
       "   age  sex  cp  trestbps  chol  fbs  restecg  thalach  exang  oldpeak  slope  \\\n",
       "0   63    1   3       145   233    1        0      150      0      2.3      0   \n",
       "1   37    1   2       130   250    0        1      187      0      3.5      0   \n",
       "2   41    0   1       130   204    0        0      172      0      1.4      2   \n",
       "3   56    1   1       120   236    0        1      178      0      0.8      2   \n",
       "4   57    0   0       120   354    0        1      163      1      0.6      2   \n",
       "5   57    1   0       140   192    0        1      148      0      0.4      1   \n",
       "6   56    0   1       140   294    0        0      153      0      1.3      1   \n",
       "7   44    1   1       120   263    0        1      173      0      0.0      2   \n",
       "8   52    1   2       172   199    1        1      162      0      0.5      2   \n",
       "9   57    1   2       150   168    0        1      174      0      1.6      2   \n",
       "\n",
       "   ca  thal  target  \n",
       "0   0     1       1  \n",
       "1   0     2       1  \n",
       "2   0     2       1  \n",
       "3   0     2       1  \n",
       "4   0     2       1  \n",
       "5   0     1       1  \n",
       "6   0     2       1  \n",
       "7   0     3       1  \n",
       "8   0     3       1  \n",
       "9   0     2       1  "
      ]
     },
     "execution_count": 4,
     "metadata": {},
     "output_type": "execute_result"
    }
   ],
   "source": [
    "# print the first 10 rows of dataset\n",
    "ht.head(10)"
   ]
  },
  {
   "cell_type": "code",
   "execution_count": 5,
   "id": "cbed3c8a",
   "metadata": {},
   "outputs": [
    {
     "data": {
      "text/html": [
       "<div>\n",
       "<style scoped>\n",
       "    .dataframe tbody tr th:only-of-type {\n",
       "        vertical-align: middle;\n",
       "    }\n",
       "\n",
       "    .dataframe tbody tr th {\n",
       "        vertical-align: top;\n",
       "    }\n",
       "\n",
       "    .dataframe thead th {\n",
       "        text-align: right;\n",
       "    }\n",
       "</style>\n",
       "<table border=\"1\" class=\"dataframe\">\n",
       "  <thead>\n",
       "    <tr style=\"text-align: right;\">\n",
       "      <th></th>\n",
       "      <th>age</th>\n",
       "      <th>sex</th>\n",
       "      <th>cp</th>\n",
       "      <th>trestbps</th>\n",
       "      <th>chol</th>\n",
       "      <th>fbs</th>\n",
       "      <th>restecg</th>\n",
       "      <th>thalach</th>\n",
       "      <th>exang</th>\n",
       "      <th>oldpeak</th>\n",
       "      <th>slope</th>\n",
       "      <th>ca</th>\n",
       "      <th>thal</th>\n",
       "      <th>target</th>\n",
       "    </tr>\n",
       "  </thead>\n",
       "  <tbody>\n",
       "    <tr>\n",
       "      <th>count</th>\n",
       "      <td>303.000000</td>\n",
       "      <td>303.000000</td>\n",
       "      <td>303.000000</td>\n",
       "      <td>303.000000</td>\n",
       "      <td>303.000000</td>\n",
       "      <td>303.000000</td>\n",
       "      <td>303.000000</td>\n",
       "      <td>303.000000</td>\n",
       "      <td>303.000000</td>\n",
       "      <td>303.000000</td>\n",
       "      <td>303.000000</td>\n",
       "      <td>303.000000</td>\n",
       "      <td>303.000000</td>\n",
       "      <td>303.000000</td>\n",
       "    </tr>\n",
       "    <tr>\n",
       "      <th>mean</th>\n",
       "      <td>54.366337</td>\n",
       "      <td>0.683168</td>\n",
       "      <td>0.966997</td>\n",
       "      <td>131.623762</td>\n",
       "      <td>246.264026</td>\n",
       "      <td>0.148515</td>\n",
       "      <td>0.528053</td>\n",
       "      <td>149.646865</td>\n",
       "      <td>0.326733</td>\n",
       "      <td>1.039604</td>\n",
       "      <td>1.399340</td>\n",
       "      <td>0.729373</td>\n",
       "      <td>2.313531</td>\n",
       "      <td>0.544554</td>\n",
       "    </tr>\n",
       "    <tr>\n",
       "      <th>std</th>\n",
       "      <td>9.082101</td>\n",
       "      <td>0.466011</td>\n",
       "      <td>1.032052</td>\n",
       "      <td>17.538143</td>\n",
       "      <td>51.830751</td>\n",
       "      <td>0.356198</td>\n",
       "      <td>0.525860</td>\n",
       "      <td>22.905161</td>\n",
       "      <td>0.469794</td>\n",
       "      <td>1.161075</td>\n",
       "      <td>0.616226</td>\n",
       "      <td>1.022606</td>\n",
       "      <td>0.612277</td>\n",
       "      <td>0.498835</td>\n",
       "    </tr>\n",
       "    <tr>\n",
       "      <th>min</th>\n",
       "      <td>29.000000</td>\n",
       "      <td>0.000000</td>\n",
       "      <td>0.000000</td>\n",
       "      <td>94.000000</td>\n",
       "      <td>126.000000</td>\n",
       "      <td>0.000000</td>\n",
       "      <td>0.000000</td>\n",
       "      <td>71.000000</td>\n",
       "      <td>0.000000</td>\n",
       "      <td>0.000000</td>\n",
       "      <td>0.000000</td>\n",
       "      <td>0.000000</td>\n",
       "      <td>0.000000</td>\n",
       "      <td>0.000000</td>\n",
       "    </tr>\n",
       "    <tr>\n",
       "      <th>25%</th>\n",
       "      <td>47.500000</td>\n",
       "      <td>0.000000</td>\n",
       "      <td>0.000000</td>\n",
       "      <td>120.000000</td>\n",
       "      <td>211.000000</td>\n",
       "      <td>0.000000</td>\n",
       "      <td>0.000000</td>\n",
       "      <td>133.500000</td>\n",
       "      <td>0.000000</td>\n",
       "      <td>0.000000</td>\n",
       "      <td>1.000000</td>\n",
       "      <td>0.000000</td>\n",
       "      <td>2.000000</td>\n",
       "      <td>0.000000</td>\n",
       "    </tr>\n",
       "    <tr>\n",
       "      <th>50%</th>\n",
       "      <td>55.000000</td>\n",
       "      <td>1.000000</td>\n",
       "      <td>1.000000</td>\n",
       "      <td>130.000000</td>\n",
       "      <td>240.000000</td>\n",
       "      <td>0.000000</td>\n",
       "      <td>1.000000</td>\n",
       "      <td>153.000000</td>\n",
       "      <td>0.000000</td>\n",
       "      <td>0.800000</td>\n",
       "      <td>1.000000</td>\n",
       "      <td>0.000000</td>\n",
       "      <td>2.000000</td>\n",
       "      <td>1.000000</td>\n",
       "    </tr>\n",
       "    <tr>\n",
       "      <th>75%</th>\n",
       "      <td>61.000000</td>\n",
       "      <td>1.000000</td>\n",
       "      <td>2.000000</td>\n",
       "      <td>140.000000</td>\n",
       "      <td>274.500000</td>\n",
       "      <td>0.000000</td>\n",
       "      <td>1.000000</td>\n",
       "      <td>166.000000</td>\n",
       "      <td>1.000000</td>\n",
       "      <td>1.600000</td>\n",
       "      <td>2.000000</td>\n",
       "      <td>1.000000</td>\n",
       "      <td>3.000000</td>\n",
       "      <td>1.000000</td>\n",
       "    </tr>\n",
       "    <tr>\n",
       "      <th>max</th>\n",
       "      <td>77.000000</td>\n",
       "      <td>1.000000</td>\n",
       "      <td>3.000000</td>\n",
       "      <td>200.000000</td>\n",
       "      <td>564.000000</td>\n",
       "      <td>1.000000</td>\n",
       "      <td>2.000000</td>\n",
       "      <td>202.000000</td>\n",
       "      <td>1.000000</td>\n",
       "      <td>6.200000</td>\n",
       "      <td>2.000000</td>\n",
       "      <td>4.000000</td>\n",
       "      <td>3.000000</td>\n",
       "      <td>1.000000</td>\n",
       "    </tr>\n",
       "  </tbody>\n",
       "</table>\n",
       "</div>"
      ],
      "text/plain": [
       "              age         sex          cp    trestbps        chol         fbs  \\\n",
       "count  303.000000  303.000000  303.000000  303.000000  303.000000  303.000000   \n",
       "mean    54.366337    0.683168    0.966997  131.623762  246.264026    0.148515   \n",
       "std      9.082101    0.466011    1.032052   17.538143   51.830751    0.356198   \n",
       "min     29.000000    0.000000    0.000000   94.000000  126.000000    0.000000   \n",
       "25%     47.500000    0.000000    0.000000  120.000000  211.000000    0.000000   \n",
       "50%     55.000000    1.000000    1.000000  130.000000  240.000000    0.000000   \n",
       "75%     61.000000    1.000000    2.000000  140.000000  274.500000    0.000000   \n",
       "max     77.000000    1.000000    3.000000  200.000000  564.000000    1.000000   \n",
       "\n",
       "          restecg     thalach       exang     oldpeak       slope          ca  \\\n",
       "count  303.000000  303.000000  303.000000  303.000000  303.000000  303.000000   \n",
       "mean     0.528053  149.646865    0.326733    1.039604    1.399340    0.729373   \n",
       "std      0.525860   22.905161    0.469794    1.161075    0.616226    1.022606   \n",
       "min      0.000000   71.000000    0.000000    0.000000    0.000000    0.000000   \n",
       "25%      0.000000  133.500000    0.000000    0.000000    1.000000    0.000000   \n",
       "50%      1.000000  153.000000    0.000000    0.800000    1.000000    0.000000   \n",
       "75%      1.000000  166.000000    1.000000    1.600000    2.000000    1.000000   \n",
       "max      2.000000  202.000000    1.000000    6.200000    2.000000    4.000000   \n",
       "\n",
       "             thal      target  \n",
       "count  303.000000  303.000000  \n",
       "mean     2.313531    0.544554  \n",
       "std      0.612277    0.498835  \n",
       "min      0.000000    0.000000  \n",
       "25%      2.000000    0.000000  \n",
       "50%      2.000000    1.000000  \n",
       "75%      3.000000    1.000000  \n",
       "max      3.000000    1.000000  "
      ]
     },
     "execution_count": 5,
     "metadata": {},
     "output_type": "execute_result"
    }
   ],
   "source": [
    "#describe data set\n",
    "ht.describe()"
   ]
  },
  {
   "cell_type": "code",
   "execution_count": 6,
   "id": "98b939d4",
   "metadata": {},
   "outputs": [
    {
     "data": {
      "text/plain": [
       "age         0\n",
       "sex         0\n",
       "cp          0\n",
       "trestbps    0\n",
       "chol        0\n",
       "fbs         0\n",
       "restecg     0\n",
       "thalach     0\n",
       "exang       0\n",
       "oldpeak     0\n",
       "slope       0\n",
       "ca          0\n",
       "thal        0\n",
       "target      0\n",
       "dtype: int64"
      ]
     },
     "execution_count": 6,
     "metadata": {},
     "output_type": "execute_result"
    }
   ],
   "source": [
    "#to check if data set have empty space\n",
    "ht.apply(lambda x: sum(x.isnull()),axis=0) "
   ]
  },
  {
   "cell_type": "code",
   "execution_count": 7,
   "id": "d2f08f50",
   "metadata": {},
   "outputs": [
    {
     "data": {
      "text/plain": [
       "age           int64\n",
       "sex           int64\n",
       "cp            int64\n",
       "trestbps      int64\n",
       "chol          int64\n",
       "fbs           int64\n",
       "restecg       int64\n",
       "thalach       int64\n",
       "exang         int64\n",
       "oldpeak     float64\n",
       "slope         int64\n",
       "ca            int64\n",
       "thal          int64\n",
       "target        int64\n",
       "dtype: object"
      ]
     },
     "execution_count": 7,
     "metadata": {},
     "output_type": "execute_result"
    }
   ],
   "source": [
    "ht.dtypes "
   ]
  },
  {
   "cell_type": "code",
   "execution_count": 8,
   "id": "e46dbd23",
   "metadata": {},
   "outputs": [
    {
     "data": {
      "text/html": [
       "<div>\n",
       "<style scoped>\n",
       "    .dataframe tbody tr th:only-of-type {\n",
       "        vertical-align: middle;\n",
       "    }\n",
       "\n",
       "    .dataframe tbody tr th {\n",
       "        vertical-align: top;\n",
       "    }\n",
       "\n",
       "    .dataframe thead th {\n",
       "        text-align: right;\n",
       "    }\n",
       "</style>\n",
       "<table border=\"1\" class=\"dataframe\">\n",
       "  <thead>\n",
       "    <tr style=\"text-align: right;\">\n",
       "      <th></th>\n",
       "      <th>age</th>\n",
       "      <th>sex</th>\n",
       "      <th>cp</th>\n",
       "      <th>trestbps</th>\n",
       "      <th>chol</th>\n",
       "      <th>fbs</th>\n",
       "      <th>restecg</th>\n",
       "      <th>thalach</th>\n",
       "      <th>exang</th>\n",
       "      <th>oldpeak</th>\n",
       "      <th>slope</th>\n",
       "      <th>ca</th>\n",
       "      <th>thal</th>\n",
       "      <th>target</th>\n",
       "    </tr>\n",
       "  </thead>\n",
       "  <tbody>\n",
       "    <tr>\n",
       "      <th>164</th>\n",
       "      <td>38</td>\n",
       "      <td>1</td>\n",
       "      <td>2</td>\n",
       "      <td>138</td>\n",
       "      <td>175</td>\n",
       "      <td>0</td>\n",
       "      <td>1</td>\n",
       "      <td>173</td>\n",
       "      <td>0</td>\n",
       "      <td>0.0</td>\n",
       "      <td>2</td>\n",
       "      <td>4</td>\n",
       "      <td>2</td>\n",
       "      <td>1</td>\n",
       "    </tr>\n",
       "  </tbody>\n",
       "</table>\n",
       "</div>"
      ],
      "text/plain": [
       "     age  sex  cp  trestbps  chol  fbs  restecg  thalach  exang  oldpeak  \\\n",
       "164   38    1   2       138   175    0        1      173      0      0.0   \n",
       "\n",
       "     slope  ca  thal  target  \n",
       "164      2   4     2       1  "
      ]
     },
     "execution_count": 8,
     "metadata": {},
     "output_type": "execute_result"
    }
   ],
   "source": [
    "#check for duplicate data\n",
    "duplicatedRows = ht[ht.duplicated()]\n",
    "duplicatedRows"
   ]
  },
  {
   "cell_type": "code",
   "execution_count": 9,
   "id": "d22c3cc3",
   "metadata": {},
   "outputs": [],
   "source": [
    "# drop the duplicated row of the dataset\n",
    "ht1=ht.drop_duplicates()"
   ]
  },
  {
   "cell_type": "code",
   "execution_count": 10,
   "id": "8e819b95",
   "metadata": {},
   "outputs": [
    {
     "name": "stdout",
     "output_type": "stream",
     "text": [
      "     age  sex  cp  trestbps  chol  fbs  restecg  thalach  exang  oldpeak  \\\n",
      "0     63    1   3       145   233    1        0      150      0      2.3   \n",
      "1     37    1   2       130   250    0        1      187      0      3.5   \n",
      "2     41    0   1       130   204    0        0      172      0      1.4   \n",
      "3     56    1   1       120   236    0        1      178      0      0.8   \n",
      "4     57    0   0       120   354    0        1      163      1      0.6   \n",
      "..   ...  ...  ..       ...   ...  ...      ...      ...    ...      ...   \n",
      "298   57    0   0       140   241    0        1      123      1      0.2   \n",
      "299   45    1   3       110   264    0        1      132      0      1.2   \n",
      "300   68    1   0       144   193    1        1      141      0      3.4   \n",
      "301   57    1   0       130   131    0        1      115      1      1.2   \n",
      "302   57    0   1       130   236    0        0      174      0      0.0   \n",
      "\n",
      "     slope  ca  thal  \n",
      "0        0   0     1  \n",
      "1        0   0     2  \n",
      "2        2   0     2  \n",
      "3        2   0     2  \n",
      "4        2   0     2  \n",
      "..     ...  ..   ...  \n",
      "298      1   0     3  \n",
      "299      1   0     3  \n",
      "300      1   2     3  \n",
      "301      1   1     3  \n",
      "302      1   1     2  \n",
      "\n",
      "[302 rows x 13 columns]\n",
      "0      1\n",
      "1      1\n",
      "2      1\n",
      "3      1\n",
      "4      1\n",
      "      ..\n",
      "298    0\n",
      "299    0\n",
      "300    0\n",
      "301    0\n",
      "302    0\n",
      "Name: target, Length: 302, dtype: int64\n"
     ]
    }
   ],
   "source": [
    "#explanotary variable\n",
    "x=ht1.drop(['target'], axis=1)\n",
    "#target label\n",
    "y=ht1['target'] \n",
    "\n",
    "print(x)\n",
    "print(y)"
   ]
  },
  {
   "cell_type": "markdown",
   "id": "5fa16133",
   "metadata": {},
   "source": [
    "## Feature selection"
   ]
  },
  {
   "cell_type": "code",
   "execution_count": 11,
   "id": "e30d32e5",
   "metadata": {},
   "outputs": [],
   "source": [
    "#import library\n",
    "import pandas as pd\n",
    "import numpy as np\n",
    "from sklearn.feature_selection import SelectKBest\n",
    "from sklearn.feature_selection import chi2"
   ]
  },
  {
   "cell_type": "code",
   "execution_count": 12,
   "id": "ff40acc8",
   "metadata": {},
   "outputs": [
    {
     "name": "stdout",
     "output_type": "stream",
     "text": [
      "[0.07161379 0.05406522 0.1227391  0.05989767 0.05844291 0.0230374\n",
      " 0.03413167 0.08944103 0.11222757 0.08700941 0.06091754 0.12378836\n",
      " 0.10268832]\n"
     ]
    }
   ],
   "source": [
    "from sklearn.ensemble import ExtraTreesClassifier\n",
    "import matplotlib.pyplot as plt\n",
    "\n",
    "model = ExtraTreesClassifier()\n",
    "model.fit(x,y)\n",
    "\n",
    "#use inbuilt class feature_importances of tree based classifiers\n",
    "print(model.feature_importances_) "
   ]
  },
  {
   "cell_type": "code",
   "execution_count": 13,
   "id": "63e9f964",
   "metadata": {},
   "outputs": [
    {
     "data": {
      "image/png": "[encoded data removed]",
      "text/plain": [
       "<Figure size 640x480 with 1 Axes>"
      ]
     },
     "metadata": {},
     "output_type": "display_data"
    }
   ],
   "source": [
    "#plot graph of feature importances for better visualization\n",
    "feat_importances = pd.Series(model.feature_importances_, index=x.columns)\n",
    "feat_importances.nlargest(5).plot(kind='barh')\n",
    "\n",
    "plt.show()"
   ]
  },
  {
   "cell_type": "code",
   "execution_count": 15,
   "id": "e308eb88",
   "metadata": {},
   "outputs": [
    {
     "name": "stdout",
     "output_type": "stream",
     "text": [
      "     ca  cp  exang  thal  thalach\n",
      "0     0   3      0     1      150\n",
      "1     0   2      0     2      187\n",
      "2     0   1      0     2      172\n",
      "3     0   1      0     2      178\n",
      "4     0   0      1     2      163\n",
      "..   ..  ..    ...   ...      ...\n",
      "298   0   0      1     3      123\n",
      "299   0   3      0     3      132\n",
      "300   2   0      0     3      141\n",
      "301   1   0      1     3      115\n",
      "302   1   1      0     2      174\n",
      "\n",
      "[302 rows x 5 columns]\n"
     ]
    }
   ],
   "source": [
    "new_ht1=pd.concat([ht1['ca'],ht1['cp'],ht1['exang'],ht1['thal'],ht1['thalach']],axis=1) \n",
    "print(new_ht1)"
   ]
  },
  {
   "cell_type": "markdown",
   "id": "5f65fed0",
   "metadata": {},
   "source": [
    "# Prediction 80:20"
   ]
  },
  {
   "cell_type": "code",
   "execution_count": 16,
   "id": "d0b47bbf",
   "metadata": {},
   "outputs": [
    {
     "name": "stdout",
     "output_type": "stream",
     "text": [
      "No. of training examples: 242\n",
      "No. of testing examples: 60\n"
     ]
    }
   ],
   "source": [
    "training_data = ht1.sample(frac=0.8, random_state=42)\n",
    "testing_data = ht1.drop(training_data.index)\n",
    "\n",
    "print(f\"No. of training examples: {training_data.shape[0]}\")\n",
    "print(f\"No. of testing examples: {testing_data.shape[0]}\")"
   ]
  },
  {
   "cell_type": "code",
   "execution_count": 17,
   "id": "f95540d4",
   "metadata": {},
   "outputs": [],
   "source": [
    "# split data with train-80% and test-20%\n",
    "from sklearn.model_selection import train_test_split\n",
    "\n",
    "choosen_x=x\n",
    "choosen_y=ht1['target']\n",
    "\n",
    "unscaled_train_x,unscaled_test_x,train_y,test_y=train_test_split(choosen_x,choosen_y,test_size=0.2,random_state=42)"
   ]
  },
  {
   "cell_type": "code",
   "execution_count": 18,
   "id": "a0c25a8a",
   "metadata": {},
   "outputs": [
    {
     "name": "stdout",
     "output_type": "stream",
     "text": [
      "     age  sex  cp  trestbps  chol  fbs  restecg  thalach  exang  oldpeak  \\\n",
      "0     63    1   3       145   233    1        0      150      0      2.3   \n",
      "1     37    1   2       130   250    0        1      187      0      3.5   \n",
      "2     41    0   1       130   204    0        0      172      0      1.4   \n",
      "3     56    1   1       120   236    0        1      178      0      0.8   \n",
      "4     57    0   0       120   354    0        1      163      1      0.6   \n",
      "..   ...  ...  ..       ...   ...  ...      ...      ...    ...      ...   \n",
      "298   57    0   0       140   241    0        1      123      1      0.2   \n",
      "299   45    1   3       110   264    0        1      132      0      1.2   \n",
      "300   68    1   0       144   193    1        1      141      0      3.4   \n",
      "301   57    1   0       130   131    0        1      115      1      1.2   \n",
      "302   57    0   1       130   236    0        0      174      0      0.0   \n",
      "\n",
      "     slope  ca  thal  target  \n",
      "0        0   0     1       1  \n",
      "1        0   0     2       1  \n",
      "2        2   0     2       1  \n",
      "3        2   0     2       1  \n",
      "4        2   0     2       1  \n",
      "..     ...  ..   ...     ...  \n",
      "298      1   0     3       0  \n",
      "299      1   0     3       0  \n",
      "300      1   2     3       0  \n",
      "301      1   1     3       0  \n",
      "302      1   1     2       0  \n",
      "\n",
      "[302 rows x 14 columns]\n",
      "[[-1.350641    0.73145871  0.         ...  0.96543644 -0.68348955\n",
      "  -0.54576155]\n",
      " [ 1.48742624  0.73145871  0.9664929  ... -0.68470669 -0.68348955\n",
      "   1.14050171]\n",
      " [ 1.37826981  0.73145871 -0.9664929  ... -0.68470669  1.35010281\n",
      "   1.14050171]\n",
      " ...\n",
      " [ 1.59658267  0.73145871  1.9329858  ... -0.68470669  0.33330663\n",
      "  -0.54576155]\n",
      " [ 0.72333121  0.73145871  1.9329858  ... -0.68470669  1.35010281\n",
      "  -0.54576155]\n",
      " [ 0.94164408 -1.36713116  0.         ...  0.96543644  1.35010281\n",
      "  -0.54576155]]\n",
      "[[ 4.62595221e-02  4.94871659e-01 -8.19562012e-01 -7.58825850e-02\n",
      "   2.19119504e+00 -5.20416500e-01  9.51971638e-01 -6.82546038e-01\n",
      "   1.16023870e+00 -2.24307468e-02 -5.07673083e-01  9.22095332e-02\n",
      "   1.05970271e+00]\n",
      " [ 1.10444609e+00  4.94871659e-01  1.18016930e+00 -4.96686011e-01\n",
      "   1.28065664e+00 -5.20416500e-01  9.51971638e-01 -7.22851274e-01\n",
      "   1.16023870e+00  4.33661105e-01 -5.07673083e-01 -8.45254054e-01\n",
      "   1.05970271e+00]\n",
      " [ 2.81412092e-01  4.94871659e-01  1.18016930e+00  1.00618337e+00\n",
      "  -2.50635531e+00  1.92153785e+00  9.51971638e-01  9.69968620e-01\n",
      "  -8.61891607e-01 -7.82583834e-01  1.04072982e+00  9.22095332e-02\n",
      "   1.05970271e+00]\n",
      " [ 1.33959866e+00  4.94871659e-01  1.80303643e-01  1.60733112e+00\n",
      "  -2.30687819e-02 -5.20416500e-01  9.51971638e-01 -1.16620886e+00\n",
      "   1.16023870e+00 -9.34614451e-01 -5.07673083e-01  1.96713671e+00\n",
      "  -1.87856390e+00]\n",
      " [ 1.92748009e+00 -2.02072594e+00  1.18016930e+00 -1.39840764e+00\n",
      "   3.70118251e-01  1.92153785e+00 -1.05045146e+00 -7.63156509e-01\n",
      "  -8.61891607e-01 -9.34614451e-01  1.04072982e+00  9.22095332e-02\n",
      "  -4.09430593e-01]\n",
      " [ 2.81412092e-01  4.94871659e-01  1.18016930e+00  1.00618337e+00\n",
      "  -1.63720502e+00 -5.20416500e-01  9.51971638e-01  1.01027386e+00\n",
      "  -8.61891607e-01  2.81630488e-01  1.04072982e+00 -8.45254054e-01\n",
      "  -4.09430593e-01]\n",
      " [-1.01192704e+00 -2.02072594e+00 -8.19562012e-01  2.84806066e-01\n",
      "  -8.51509451e-02 -5.20416500e-01 -1.05045146e+00  1.23558673e-01\n",
      "   1.16023870e+00 -9.34614451e-01 -5.07673083e-01 -8.45254054e-01\n",
      "  -4.09430593e-01]\n",
      " [-7.13167632e-02  4.94871659e-01 -8.19562012e-01 -1.39840764e+00\n",
      "  -1.67927163e-01 -5.20416500e-01  9.51971638e-01 -9.24377452e-01\n",
      "   1.16023870e+00  1.19381419e+00 -5.07673083e-01  9.22095332e-02\n",
      "   1.05970271e+00]\n",
      " [-7.13167632e-02  4.94871659e-01 -8.19562012e-01 -6.77030337e-01\n",
      "   8.04693394e-01 -5.20416500e-01 -1.05045146e+00 -1.32742981e+00\n",
      "   1.16023870e+00  1.49787543e+00 -5.07673083e-01  1.02967312e+00\n",
      "  -4.09430593e-01]\n",
      " [-7.13167632e-02  4.94871659e-01  1.18016930e+00 -4.96686011e-01\n",
      "   5.35670687e-01 -5.20416500e-01 -1.05045146e+00  1.23558673e-01\n",
      "  -8.61891607e-01 -5.54537908e-01 -2.05607598e+00  9.22095332e-02\n",
      "  -4.09430593e-01]\n",
      " [ 2.81412092e-01  4.94871659e-01 -8.19562012e-01  4.05035616e-01\n",
      "  -1.14054772e+00 -5.20416500e-01  9.51971638e-01 -3.76622693e-02\n",
      "  -8.61891607e-01 -6.30553216e-01 -5.07673083e-01 -8.45254054e-01\n",
      "  -1.87856390e+00]\n",
      " [ 5.16564663e-01  4.94871659e-01  2.18003495e+00  2.68939707e+00\n",
      "   4.73588523e-01 -5.20416500e-01 -1.05045146e+00 -1.58577976e-01\n",
      "  -8.61891607e-01  2.25802851e+00 -2.05607598e+00 -8.45254054e-01\n",
      "   1.05970271e+00]\n",
      " [-3.06469334e-01  4.94871659e-01  1.80303643e-01 -7.97259887e-01\n",
      "   1.61176151e+00 -5.20416500e-01  9.51971638e-01  9.29663384e-01\n",
      "  -8.61891607e-01 -7.82583834e-01  1.04072982e+00 -8.45254054e-01\n",
      "  -4.09430593e-01]\n",
      " [ 6.34140948e-01  4.94871659e-01 -8.19562012e-01 -9.77604212e-01\n",
      "  -3.54173652e-01  1.92153785e+00  9.51971638e-01  4.46000557e-01\n",
      "   1.16023870e+00  1.29599871e-01  1.04072982e+00  1.02967312e+00\n",
      "   1.05970271e+00]\n",
      " [-1.01192704e+00 -2.02072594e+00  1.80303643e-01 -1.69898151e+00\n",
      "  -8.92219066e-01 -5.20416500e-01  9.51971638e-01  9.29663384e-01\n",
      "  -8.61891607e-01 -9.34614451e-01  1.04072982e+00 -8.45254054e-01\n",
      "  -4.09430593e-01]\n",
      " [-1.24707962e+00  4.94871659e-01  1.18016930e+00  4.05035616e-01\n",
      "  -2.50703380e-01 -5.20416500e-01 -1.05045146e+00  1.25210527e+00\n",
      "  -8.61891607e-01 -9.34614451e-01  1.04072982e+00 -8.45254054e-01\n",
      "  -4.09430593e-01]\n",
      " [-2.42284247e+00 -2.02072594e+00  1.80303643e-01 -9.17489437e-01\n",
      "  -7.68054740e-01 -5.20416500e-01  9.51971638e-01  1.73576810e+00\n",
      "  -8.61891607e-01 -4.02507290e-01  1.04072982e+00 -8.45254054e-01\n",
      "  -4.09430593e-01]\n",
      " [ 6.34140948e-01  4.94871659e-01 -8.19562012e-01  7.05609492e-01\n",
      "   7.21917176e-01 -5.20416500e-01 -1.05045146e+00 -2.79493683e-01\n",
      "   1.16023870e+00  1.19381419e+00 -5.07673083e-01  1.02967312e+00\n",
      "   1.05970271e+00]\n",
      " [-1.01192704e+00  4.94871659e-01 -8.19562012e-01  4.05035616e-01\n",
      "   1.32204475e+00 -5.20416500e-01  9.51971638e-01 -1.16620886e+00\n",
      "   1.16023870e+00  4.33661105e-01 -5.07673083e-01  1.02967312e+00\n",
      "   1.05970271e+00]\n",
      " [ 7.51717233e-01  4.94871659e-01 -8.19562012e-01  2.84806066e-01\n",
      "  -1.67859313e+00 -5.20416500e-01 -1.05045146e+00 -9.64682687e-01\n",
      "   1.16023870e+00  1.80193666e+00 -5.07673083e-01  9.22095332e-02\n",
      "  -4.09430593e-01]\n",
      " [ 1.10444609e+00  4.94871659e-01  2.18003495e+00  2.20847887e+00\n",
      "  -4.16255815e-01 -5.20416500e-01 -1.05045146e+00  2.44474380e-01\n",
      "  -8.61891607e-01 -4.78522599e-01 -5.07673083e-01 -8.45254054e-01\n",
      "   1.05970271e+00]\n",
      " [ 1.63835807e-01  4.94871659e-01 -8.19562012e-01 -1.96112135e-01\n",
      "   7.42611230e-01  1.92153785e+00 -1.05045146e+00 -1.85139787e+00\n",
      "   1.16023870e+00  2.81630488e-01 -2.05607598e+00 -8.45254054e-01\n",
      "   1.05970271e+00]\n",
      " [ 1.45717494e+00  4.94871659e-01 -8.19562012e-01 -7.97259887e-01\n",
      "  -2.09315271e-01 -5.20416500e-01  9.51971638e-01 -3.14116541e+00\n",
      "  -8.61891607e-01 -1.74461364e-01 -5.07673083e-01 -8.45254054e-01\n",
      "  -4.09430593e-01]\n",
      " [ 1.92748009e+00 -2.02072594e+00  1.80303643e-01  1.60733112e+00\n",
      "   1.13579826e+00 -5.20416500e-01  9.51971638e-01  5.26611029e-01\n",
      "  -8.61891607e-01 -6.30553216e-01  1.04072982e+00  1.02967312e+00\n",
      "  -4.09430593e-01]\n",
      " [-1.24707962e+00 -2.02072594e+00  1.18016930e+00 -9.17489437e-01\n",
      "  -1.05844999e-01 -5.20416500e-01  9.51971638e-01  2.64296627e-03\n",
      "  -8.61891607e-01 -7.06568525e-01 -5.07673083e-01  9.22095332e-02\n",
      "  -4.09430593e-01]\n",
      " [-1.71738476e+00  4.94871659e-01 -8.19562012e-01  1.12641292e+00\n",
      "  -4.99032033e-01 -5.20416500e-01  9.51971638e-01  1.29241050e+00\n",
      "  -8.61891607e-01 -9.34614451e-01  1.04072982e+00 -8.45254054e-01\n",
      "   1.05970271e+00]\n",
      " [-1.12950333e+00  4.94871659e-01 -8.19562012e-01  5.25265166e-01\n",
      "   1.28065664e+00 -5.20416500e-01 -1.05045146e+00 -7.79675048e-02\n",
      "   1.16023870e+00 -9.34614451e-01 -5.07673083e-01  1.96713671e+00\n",
      "   1.05970271e+00]\n",
      " [-4.24045619e-01  4.94871659e-01 -8.19562012e-01  4.05035616e-01\n",
      "   2.87342034e-01 -5.20416500e-01 -1.05045146e+00  1.49393668e+00\n",
      "   1.16023870e+00 -9.34614451e-01  1.04072982e+00 -8.45254054e-01\n",
      "  -4.09430593e-01]\n",
      " [ 4.62595221e-02  4.94871659e-01 -8.19562012e-01  1.60733112e+00\n",
      "   8.66775557e-01 -5.20416500e-01 -1.05045146e+00 -1.58577976e-01\n",
      "   1.16023870e+00 -3.26491982e-01 -5.07673083e-01  9.22095332e-02\n",
      "   1.05970271e+00]\n",
      " [-5.41621904e-01 -2.02072594e+00 -8.19562012e-01 -1.39840764e+00\n",
      "   1.42483653e-01 -5.20416500e-01 -1.05045146e+00  4.05695322e-01\n",
      "  -8.61891607e-01 -9.34614451e-01  1.04072982e+00 -8.45254054e-01\n",
      "  -4.09430593e-01]\n",
      " [ 1.10444609e+00  4.94871659e-01 -8.19562012e-01 -3.16341686e-01\n",
      "   3.28730143e-01 -5.20416500e-01  9.51971638e-01 -1.77078740e+00\n",
      "   1.16023870e+00 -7.82583834e-01 -5.07673083e-01  9.22095332e-02\n",
      "   1.05970271e+00]\n",
      " [ 7.51717233e-01  4.94871659e-01 -8.19562012e-01  4.05035616e-01\n",
      "  -8.30136903e-01 -5.20416500e-01 -1.05045146e+00 -4.40714625e-01\n",
      "   1.16023870e+00  5.09676414e-01  1.04072982e+00  9.22095332e-02\n",
      "   1.05970271e+00]\n",
      " [ 1.22202237e+00  4.94871659e-01 -8.19562012e-01 -1.39840764e+00\n",
      "   1.83193268e-02 -5.20416500e-01 -1.05045146e+00  3.65390086e-01\n",
      "  -8.61891607e-01 -4.78522599e-01  1.04072982e+00  1.02967312e+00\n",
      "  -1.87856390e+00]\n",
      " [-1.12950333e+00  4.94871659e-01 -8.19562012e-01 -1.75909629e+00\n",
      "  -8.09442849e-01 -5.20416500e-01 -1.05045146e+00 -3.76622693e-02\n",
      "   1.16023870e+00  1.34584481e+00 -5.07673083e-01 -8.45254054e-01\n",
      "  -4.09430593e-01]\n",
      " [ 1.33959866e+00 -2.02072594e+00  2.18003495e+00  1.00618337e+00\n",
      "  -4.36949870e-01 -5.20416500e-01  9.51971638e-01 -1.40804028e+00\n",
      "  -8.61891607e-01  1.04178358e+00 -2.05607598e+00 -8.45254054e-01\n",
      "  -4.09430593e-01]\n",
      " [-1.88893048e-01  4.94871659e-01 -8.19562012e-01  4.05035616e-01\n",
      "  -9.12913121e-01  1.92153785e+00 -1.05045146e+00  2.44474380e-01\n",
      "   1.16023870e+00  1.42186012e+00 -2.05607598e+00 -8.45254054e-01\n",
      "   1.05970271e+00]\n",
      " [-4.24045619e-01  4.94871659e-01  1.18016930e+00 -4.96686011e-01\n",
      "  -4.37628363e-02  1.92153785e+00 -1.05045146e+00  6.87831971e-01\n",
      "  -8.61891607e-01  8.89752958e-01 -5.07673083e-01 -8.45254054e-01\n",
      "  -4.09430593e-01]\n",
      " [-7.76774474e-01  4.94871659e-01  1.18016930e+00 -5.56800786e-01\n",
      "   1.63177708e-01  1.92153785e+00  9.51971638e-01  1.05057909e+00\n",
      "  -8.61891607e-01 -9.34614451e-01  1.04072982e+00  1.02967312e+00\n",
      "  -4.09430593e-01]\n",
      " [-1.71738476e+00  4.94871659e-01  2.18003495e+00  4.05035616e-01\n",
      "  -9.95689338e-01 -5.20416500e-01  9.51971638e-01  1.17149480e+00\n",
      "   1.16023870e+00  1.29599871e-01  1.04072982e+00 -8.45254054e-01\n",
      "   1.05970271e+00]\n",
      " [-1.12950333e+00  4.94871659e-01 -8.19562012e-01 -1.09783376e+00\n",
      "   2.66647979e-01 -5.20416500e-01 -1.05045146e+00  1.45363145e+00\n",
      "  -8.61891607e-01 -9.34614451e-01  1.04072982e+00 -8.45254054e-01\n",
      "  -4.09430593e-01]\n",
      " [-3.06469334e-01  4.94871659e-01  1.18016930e+00  2.84806066e-01\n",
      "  -4.99032033e-01 -5.20416500e-01  9.51971638e-01  8.08747677e-01\n",
      "  -8.61891607e-01 -9.34614451e-01  1.04072982e+00  2.90460030e+00\n",
      "  -4.09430593e-01]\n",
      " [ 5.16564663e-01  4.94871659e-01  1.80303643e-01  4.05035616e-01\n",
      "  -5.40420142e-01 -5.20416500e-01  9.51971638e-01  6.07221500e-01\n",
      "   1.16023870e+00 -9.34614451e-01  1.04072982e+00 -8.45254054e-01\n",
      "  -4.09430593e-01]\n",
      " [ 8.69293519e-01  4.94871659e-01  1.80303643e-01 -3.16341686e-01\n",
      "  -8.09442849e-01  1.92153785e+00 -1.05045146e+00 -3.60104154e-01\n",
      "  -8.61891607e-01 -9.34614451e-01  1.04072982e+00 -8.45254054e-01\n",
      "  -4.09430593e-01]\n",
      " [-1.59980847e+00  4.94871659e-01  1.18016930e+00 -1.96112135e-01\n",
      "  -6.85278522e-01 -5.20416500e-01 -1.05045146e+00  7.68442442e-01\n",
      "  -8.61891607e-01  5.85691723e-01 -5.07673083e-01 -8.45254054e-01\n",
      "  -4.09430593e-01]\n",
      " [-1.24707962e+00  4.94871659e-01  1.80303643e-01 -7.97259887e-01\n",
      "   3.28730143e-01 -5.20416500e-01  9.51971638e-01  9.69968620e-01\n",
      "  -8.61891607e-01 -9.34614451e-01  1.04072982e+00 -8.45254054e-01\n",
      "   1.05970271e+00]\n",
      " [ 8.69293519e-01 -2.02072594e+00 -8.19562012e-01  2.84806066e-01\n",
      "   9.70245829e-01  1.92153785e+00  9.51971638e-01 -1.73048216e+00\n",
      "  -8.61891607e-01  5.09676414e-01 -5.07673083e-01  1.96713671e+00\n",
      "  -4.09430593e-01]\n",
      " [-3.06469334e-01  4.94871659e-01 -8.19562012e-01 -3.16341686e-01\n",
      "  -8.92219066e-01  1.92153785e+00  9.51971638e-01  2.84779615e-01\n",
      "   1.16023870e+00 -1.74461364e-01 -5.07673083e-01 -8.45254054e-01\n",
      "  -3.34769720e+00]\n",
      " [-3.06469334e-01  4.94871659e-01  1.80303643e-01 -3.16341686e-01\n",
      "  -8.71525012e-01  1.92153785e+00  9.51971638e-01  1.41332621e+00\n",
      "  -8.61891607e-01 -9.34614451e-01  1.04072982e+00 -8.45254054e-01\n",
      "  -4.09430593e-01]\n",
      " [ 3.98988378e-01 -2.02072594e+00 -8.19562012e-01  2.20847887e+00\n",
      "  -4.57643924e-01  1.92153785e+00 -1.05045146e+00 -1.18272740e-01\n",
      "   1.16023870e+00  1.19381419e+00 -5.07673083e-01  1.02967312e+00\n",
      "  -1.87856390e+00]\n",
      " [ 1.10444609e+00  4.94871659e-01 -8.19562012e-01 -7.97259887e-01\n",
      "  -2.30687819e-02 -5.20416500e-01 -1.05045146e+00 -2.13353452e+00\n",
      "   1.16023870e+00  7.37722340e-01 -2.05607598e+00  9.22095332e-02\n",
      "  -4.09430593e-01]\n",
      " [ 9.86869804e-01 -2.02072594e+00 -8.19562012e-01  1.00618337e+00\n",
      "   3.30867397e+00 -5.20416500e-01 -1.05045146e+00  2.04169144e-01\n",
      "  -8.61891607e-01  2.10599790e+00 -5.07673083e-01  1.96713671e+00\n",
      "   1.05970271e+00]\n",
      " [ 3.98988378e-01  4.94871659e-01 -8.19562012e-01 -3.16341686e-01\n",
      "   2.45953925e-01 -5.20416500e-01 -1.05045146e+00 -7.63156509e-01\n",
      "   1.16023870e+00  1.34584481e+00 -5.07673083e-01  1.02967312e+00\n",
      "   1.05970271e+00]\n",
      " [-1.59980847e+00  4.94871659e-01  1.80303643e-01  1.04461740e-01\n",
      "  -9.12913121e-01 -5.20416500e-01  9.51971638e-01 -6.82546038e-01\n",
      "  -8.61891607e-01 -9.34614451e-01 -5.07673083e-01 -8.45254054e-01\n",
      "  -1.87856390e+00]\n",
      " [ 6.34140948e-01 -2.02072594e+00  1.18016930e+00 -1.87932584e+00\n",
      "   1.46690313e+00 -5.20416500e-01  9.51971638e-01  4.46000557e-01\n",
      "  -8.61891607e-01 -9.34614451e-01  1.04072982e+00  9.22095332e-02\n",
      "  -4.09430593e-01]\n",
      " [ 6.34140948e-01  4.94871659e-01 -8.19562012e-01  4.05035616e-01\n",
      "   9.49551774e-01 -5.20416500e-01 -1.05045146e+00  8.49052913e-01\n",
      "  -8.61891607e-01 -2.24307468e-02 -5.07673083e-01  1.02967312e+00\n",
      "   1.05970271e+00]\n",
      " [-3.06469334e-01  4.94871659e-01 -8.19562012e-01 -3.16341686e-01\n",
      "   1.63177708e-01 -5.20416500e-01  9.51971638e-01  4.86305793e-01\n",
      "   1.16023870e+00 -9.34614451e-01  1.04072982e+00  9.22095332e-02\n",
      "   1.05970271e+00]\n",
      " [-4.24045619e-01  4.94871659e-01 -8.19562012e-01  4.05035616e-01\n",
      "   1.05302205e+00 -5.20416500e-01  9.51971638e-01 -1.08559839e+00\n",
      "   1.16023870e+00  2.25802851e+00 -5.07673083e-01  1.96713671e+00\n",
      "   1.05970271e+00]\n",
      " [-5.41621904e-01  4.94871659e-01  1.18016930e+00 -2.56226910e-01\n",
      "  -1.05777150e+00 -5.20416500e-01  9.51971638e-01  5.66916264e-01\n",
      "  -8.61891607e-01 -9.34614451e-01  1.04072982e+00 -8.45254054e-01\n",
      "  -4.09430593e-01]\n",
      " [ 1.57475123e+00  4.94871659e-01 -8.19562012e-01  6.45494717e-01\n",
      "  -1.11985366e+00  1.92153785e+00  9.51971638e-01 -3.19798918e-01\n",
      "  -8.61891607e-01  1.64990604e+00 -5.07673083e-01  1.02967312e+00\n",
      "   1.05970271e+00]\n",
      " [ 6.34140948e-01  4.94871659e-01  1.18016930e+00  4.05035616e-01\n",
      "  -1.28540610e+00 -5.20416500e-01 -1.05045146e+00  2.44474380e-01\n",
      "  -8.61891607e-01  1.34584481e+00 -5.07673083e-01 -8.45254054e-01\n",
      "  -4.09430593e-01]\n",
      " [-1.24707962e+00  4.94871659e-01 -8.19562012e-01 -1.27817809e+00\n",
      "   8.87469611e-01 -5.20416500e-01 -1.05045146e+00  1.63863908e-01\n",
      "  -8.61891607e-01 -9.34614451e-01  1.04072982e+00  9.22095332e-02\n",
      "  -4.09430593e-01]]\n"
     ]
    }
   ],
   "source": [
    "from sklearn.preprocessing import StandardScaler\n",
    "\n",
    "scaler=StandardScaler()\n",
    "train_x=scaler.fit_transform(unscaled_train_x)\n",
    "test_x=scaler.fit_transform(unscaled_test_x)\n",
    "\n",
    "print(pd.DataFrame(ht1, columns=ht1.columns))\n",
    "print(train_x)\n",
    "print(test_x)"
   ]
  },
  {
   "cell_type": "markdown",
   "id": "a0fe42b3",
   "metadata": {},
   "source": [
    "##  K value"
   ]
  },
  {
   "cell_type": "code",
   "execution_count": 19,
   "id": "1e0df2ff",
   "metadata": {},
   "outputs": [],
   "source": [
    "from sklearn.neighbors import KNeighborsClassifier\n",
    "from sklearn import metrics\n",
    "\n",
    "#Try running from k=1 through 25 and record testing accuracy\n",
    "k_range = range(1,26)\n",
    "scores = {}\n",
    "scores_list = []\n",
    "for k in k_range:\n",
    "        knn = KNeighborsClassifier(n_neighbors=k) #default is 5\n",
    "        knn.fit(train_x,train_y)\n",
    "        pred_y=knn.predict(test_x)\n",
    "        scores[k] = metrics.accuracy_score(test_y,pred_y)\n",
    "        scores_list.append(metrics.accuracy_score(test_y,pred_y))"
   ]
  },
  {
   "cell_type": "code",
   "execution_count": 20,
   "id": "2ee71019",
   "metadata": {},
   "outputs": [
    {
     "data": {
      "text/plain": [
       "{1: 0.8032786885245902,\n",
       " 2: 0.8360655737704918,\n",
       " 3: 0.8688524590163934,\n",
       " 4: 0.8852459016393442,\n",
       " 5: 0.8852459016393442,\n",
       " 6: 0.8852459016393442,\n",
       " 7: 0.8852459016393442,\n",
       " 8: 0.8852459016393442,\n",
       " 9: 0.8852459016393442,\n",
       " 10: 0.8852459016393442,\n",
       " 11: 0.8688524590163934,\n",
       " 12: 0.8852459016393442,\n",
       " 13: 0.8688524590163934,\n",
       " 14: 0.8688524590163934,\n",
       " 15: 0.8688524590163934,\n",
       " 16: 0.8852459016393442,\n",
       " 17: 0.8852459016393442,\n",
       " 18: 0.8852459016393442,\n",
       " 19: 0.8360655737704918,\n",
       " 20: 0.8524590163934426,\n",
       " 21: 0.819672131147541,\n",
       " 22: 0.8360655737704918,\n",
       " 23: 0.819672131147541,\n",
       " 24: 0.819672131147541,\n",
       " 25: 0.819672131147541}"
      ]
     },
     "execution_count": 20,
     "metadata": {},
     "output_type": "execute_result"
    }
   ],
   "source": [
    "#show score of k\n",
    "scores"
   ]
  },
  {
   "cell_type": "code",
   "execution_count": 21,
   "id": "2217cc8a",
   "metadata": {},
   "outputs": [
    {
     "data": {
      "text/plain": [
       "Text(0, 0.5, 'Testing Accuracy')"
      ]
     },
     "execution_count": 21,
     "metadata": {},
     "output_type": "execute_result"
    },
    {
     "data": {
      "image/png": "[encoded data removed]",
      "text/plain": [
       "<Figure size 640x480 with 1 Axes>"
      ]
     },
     "metadata": {},
     "output_type": "display_data"
    }
   ],
   "source": [
    "%matplotlib inline\n",
    "import matplotlib.pyplot as plt\n",
    "\n",
    "#plot the relationship between K and the testing accuracy\n",
    "plt.plot(k_range,scores_list)\n",
    "plt.xlabel('Value of K for KNN')\n",
    "plt.ylabel('Testing Accuracy')"
   ]
  },
  {
   "cell_type": "code",
   "execution_count": 22,
   "id": "ad102473",
   "metadata": {},
   "outputs": [
    {
     "data": {
      "text/plain": [
       "array([0, 0, 1, 0, 1, 1, 1, 0, 0, 1, 1, 0, 1, 0, 1, 1, 1, 0, 0, 0, 0, 0,\n",
       "       0, 1, 1, 1, 0, 1, 0, 1, 0, 0, 1, 0, 1, 0, 1, 1, 1, 1, 1, 1, 1, 1,\n",
       "       1, 0, 0, 1, 0, 0, 0, 0, 1, 1, 0, 0, 0, 1, 0, 0, 1], dtype=int64)"
      ]
     },
     "execution_count": 22,
     "metadata": {},
     "output_type": "execute_result"
    }
   ],
   "source": [
    "#predict 'target'\n",
    "knn=KNeighborsClassifier(n_neighbors=5)\n",
    "knn.fit(train_x,train_y)\n",
    "knnPredict=knn.predict(test_x)\n",
    "knnPredict"
   ]
  },
  {
   "cell_type": "code",
   "execution_count": 23,
   "id": "05e7b159",
   "metadata": {},
   "outputs": [
    {
     "name": "stdout",
     "output_type": "stream",
     "text": [
      "Accuracy: 0.8852459016393442\n",
      "Recall: 0.8852459016393442\n",
      "Precision: 0.8858452317997532\n",
      "Confusion matrix:\n",
      "[[26  3]\n",
      " [ 4 28]]\n"
     ]
    }
   ],
   "source": [
    "from sklearn.metrics import precision_score, recall_score, confusion_matrix, classification_report, accuracy_score, f1_score\n",
    "\n",
    "print ('Accuracy:', accuracy_score(test_y, knnPredict))\n",
    "print ('Recall:', recall_score(test_y, knnPredict, average=\"weighted\"))\n",
    "print ('Precision:', precision_score(test_y, knnPredict, average=\"weighted\"))\n",
    "confusion= confusion_matrix(test_y, knnPredict)\n",
    "print('Confusion matrix:')\n",
    "print(confusion)"
   ]
  },
  {
   "cell_type": "code",
   "execution_count": 24,
   "id": "f9f2d576",
   "metadata": {},
   "outputs": [
    {
     "name": "stdout",
     "output_type": "stream",
     "text": [
      "              precision    recall  f1-score   support\n",
      "\n",
      "           0       0.87      0.90      0.88        29\n",
      "           1       0.90      0.88      0.89        32\n",
      "\n",
      "    accuracy                           0.89        61\n",
      "   macro avg       0.88      0.89      0.89        61\n",
      "weighted avg       0.89      0.89      0.89        61\n",
      "\n"
     ]
    }
   ],
   "source": [
    "Report_KNN=classification_report(test_y, knnPredict)\n",
    "print(Report_KNN)"
   ]
  },
  {
   "cell_type": "markdown",
   "id": "baf4a9fa",
   "metadata": {},
   "source": [
    "# Prediction 70:30"
   ]
  },
  {
   "cell_type": "code",
   "execution_count": 25,
   "id": "3a36ac32",
   "metadata": {},
   "outputs": [
    {
     "name": "stdout",
     "output_type": "stream",
     "text": [
      "No. of training examples: 211\n",
      "No. of testing examples: 91\n"
     ]
    }
   ],
   "source": [
    "training_data = ht1.sample(frac=0.7, random_state=42)\n",
    "testing_data = ht1.drop(training_data.index)\n",
    "\n",
    "print(f\"No. of training examples: {training_data.shape[0]}\")\n",
    "print(f\"No. of testing examples: {testing_data.shape[0]}\")"
   ]
  },
  {
   "cell_type": "code",
   "execution_count": 26,
   "id": "f0d78d41",
   "metadata": {},
   "outputs": [],
   "source": [
    "# split data with train-70% and test-30%\n",
    "from sklearn.model_selection import train_test_split\n",
    "\n",
    "choosen_x=x\n",
    "\n",
    "choosen_y=ht1['target']\n",
    "\n",
    "unscaled_train_x,unscaled_test_x,train_y,test_y=train_test_split(choosen_x,choosen_y,test_size=0.3,random_state=42)"
   ]
  },
  {
   "cell_type": "code",
   "execution_count": 27,
   "id": "785f3bfb",
   "metadata": {},
   "outputs": [
    {
     "name": "stdout",
     "output_type": "stream",
     "text": [
      "     age  sex  cp  trestbps  chol  fbs  restecg  thalach  exang  oldpeak  \\\n",
      "0     63    1   3       145   233    1        0      150      0      2.3   \n",
      "1     37    1   2       130   250    0        1      187      0      3.5   \n",
      "2     41    0   1       130   204    0        0      172      0      1.4   \n",
      "3     56    1   1       120   236    0        1      178      0      0.8   \n",
      "4     57    0   0       120   354    0        1      163      1      0.6   \n",
      "..   ...  ...  ..       ...   ...  ...      ...      ...    ...      ...   \n",
      "298   57    0   0       140   241    0        1      123      1      0.2   \n",
      "299   45    1   3       110   264    0        1      132      0      1.2   \n",
      "300   68    1   0       144   193    1        1      141      0      3.4   \n",
      "301   57    1   0       130   131    0        1      115      1      1.2   \n",
      "302   57    0   1       130   236    0        0      174      0      0.0   \n",
      "\n",
      "     slope  ca  thal  target  \n",
      "0        0   0     1       1  \n",
      "1        0   0     2       1  \n",
      "2        2   0     2       1  \n",
      "3        2   0     2       1  \n",
      "4        2   0     2       1  \n",
      "..     ...  ..   ...     ...  \n",
      "298      1   0     3       0  \n",
      "299      1   0     3       0  \n",
      "300      1   2     3       0  \n",
      "301      1   1     3       0  \n",
      "302      1   1     2       0  \n",
      "\n",
      "[302 rows x 14 columns]\n",
      "[[-1.69312171 -1.34660066  0.93980295 ...  0.93912285 -0.67862717\n",
      "  -0.53004604]\n",
      " [-2.80086956  0.74261066 -0.01816044 ...  0.93912285 -0.67862717\n",
      "  -0.53004604]\n",
      " [-0.47459908 -1.34660066  0.93980295 ... -0.67189277 -0.67862717\n",
      "  -0.53004604]\n",
      " ...\n",
      " [ 1.63012184  0.74261066  1.89776634 ... -0.67189277  0.37424292\n",
      "  -0.53004604]\n",
      " [ 0.74392356  0.74261066  1.89776634 ... -0.67189277  1.42711302\n",
      "  -0.53004604]\n",
      " [ 0.96547313 -1.34660066 -0.01816044 ...  0.93912285  1.42711302\n",
      "  -0.53004604]]\n",
      "[[ 0.02918024  0.54772256 -0.84674738 ... -0.58619464  0.09954315\n",
      "   1.08012345]\n",
      " [ 1.02495602  0.54772256  1.18098977 ... -0.58619464 -0.80629951\n",
      "   1.08012345]\n",
      " [ 0.25046375  0.54772256  1.18098977 ...  1.08079638  0.09954315\n",
      "   1.08012345]\n",
      " ...\n",
      " [ 1.35688128 -1.82574186 -0.84674738 ...  1.08079638  1.00538581\n",
      "  -0.48005487]\n",
      " [ 0.3611055   0.54772256  1.18098977 ... -0.58619464 -0.80629951\n",
      "   1.08012345]\n",
      " [ 2.35265705 -1.82574186  1.18098977 ... -0.58619464 -0.80629951\n",
      "  -0.48005487]]\n"
     ]
    }
   ],
   "source": [
    "from sklearn.preprocessing import StandardScaler\n",
    "\n",
    "scaler=StandardScaler()\n",
    "train_x=scaler.fit_transform(unscaled_train_x)\n",
    "test_x=scaler.fit_transform(unscaled_test_x)\n",
    "\n",
    "print(pd.DataFrame(ht1, columns=ht1.columns))\n",
    "print(train_x)\n",
    "print(test_x)"
   ]
  },
  {
   "cell_type": "markdown",
   "id": "c7429831",
   "metadata": {},
   "source": [
    "##  K value"
   ]
  },
  {
   "cell_type": "code",
   "execution_count": 28,
   "id": "fc2ee69b",
   "metadata": {},
   "outputs": [],
   "source": [
    "from sklearn.neighbors import KNeighborsClassifier\n",
    "from sklearn import metrics\n",
    "\n",
    "#Try running from k=1 through 25 and record testing accuracy\n",
    "k_range = range(1,26)\n",
    "scores = {}\n",
    "scores_list = []\n",
    "for k in k_range:\n",
    "        knn = KNeighborsClassifier(n_neighbors=k) #default is 5\n",
    "        knn.fit(train_x,train_y)\n",
    "        pred_y=knn.predict(test_x)\n",
    "        scores[k] = metrics.accuracy_score(test_y,pred_y)\n",
    "        scores_list.append(metrics.accuracy_score(test_y,pred_y))"
   ]
  },
  {
   "cell_type": "code",
   "execution_count": 29,
   "id": "cc9bc2df",
   "metadata": {},
   "outputs": [
    {
     "data": {
      "text/plain": [
       "{1: 0.7912087912087912,\n",
       " 2: 0.7912087912087912,\n",
       " 3: 0.8571428571428571,\n",
       " 4: 0.8571428571428571,\n",
       " 5: 0.8791208791208791,\n",
       " 6: 0.8681318681318682,\n",
       " 7: 0.8681318681318682,\n",
       " 8: 0.8791208791208791,\n",
       " 9: 0.8461538461538461,\n",
       " 10: 0.8461538461538461,\n",
       " 11: 0.8571428571428571,\n",
       " 12: 0.8351648351648352,\n",
       " 13: 0.8351648351648352,\n",
       " 14: 0.8131868131868132,\n",
       " 15: 0.8351648351648352,\n",
       " 16: 0.8461538461538461,\n",
       " 17: 0.8131868131868132,\n",
       " 18: 0.8241758241758241,\n",
       " 19: 0.8241758241758241,\n",
       " 20: 0.8241758241758241,\n",
       " 21: 0.8131868131868132,\n",
       " 22: 0.8241758241758241,\n",
       " 23: 0.8131868131868132,\n",
       " 24: 0.8241758241758241,\n",
       " 25: 0.8241758241758241}"
      ]
     },
     "execution_count": 29,
     "metadata": {},
     "output_type": "execute_result"
    }
   ],
   "source": [
    "#show score of k\n",
    "scores"
   ]
  },
  {
   "cell_type": "code",
   "execution_count": 30,
   "id": "19d0fcba",
   "metadata": {},
   "outputs": [
    {
     "data": {
      "text/plain": [
       "Text(0, 0.5, 'Testing Accuracy')"
      ]
     },
     "execution_count": 30,
     "metadata": {},
     "output_type": "execute_result"
    },
    {
     "data": {
      "image/png": "[encoded data removed]",
      "text/plain": [
       "<Figure size 640x480 with 1 Axes>"
      ]
     },
     "metadata": {},
     "output_type": "display_data"
    }
   ],
   "source": [
    "%matplotlib inline\n",
    "import matplotlib.pyplot as plt\n",
    "\n",
    "#plot the relationship between K and the testing accuracy\n",
    "plt.plot(k_range,scores_list)\n",
    "plt.xlabel('Value of K for KNN')\n",
    "plt.ylabel('Testing Accuracy')"
   ]
  },
  {
   "cell_type": "code",
   "execution_count": 31,
   "id": "d3aeaaa6",
   "metadata": {},
   "outputs": [
    {
     "data": {
      "text/plain": [
       "array([0, 0, 1, 0, 1, 1, 1, 0, 0, 1, 1, 0, 1, 0, 1, 1, 1, 0, 0, 0, 0, 0,\n",
       "       0, 1, 1, 1, 0, 1, 0, 1, 0, 0, 0, 0, 1, 0, 1, 1, 1, 1, 1, 1, 1, 1,\n",
       "       1, 0, 0, 1, 0, 0, 0, 0, 1, 1, 0, 0, 0, 1, 0, 0, 1, 1, 0, 0, 1, 1,\n",
       "       1, 1, 1, 0, 1, 1, 0, 1, 0, 1, 1, 1, 0, 0, 0, 1, 1, 1, 1, 0, 0, 1,\n",
       "       1, 1, 1], dtype=int64)"
      ]
     },
     "execution_count": 31,
     "metadata": {},
     "output_type": "execute_result"
    }
   ],
   "source": [
    "#predict 'target'\n",
    "knn=KNeighborsClassifier(n_neighbors=8)\n",
    "knn.fit(train_x,train_y)\n",
    "knnPredict=knn.predict(test_x)\n",
    "knnPredict"
   ]
  },
  {
   "cell_type": "code",
   "execution_count": 32,
   "id": "62909664",
   "metadata": {},
   "outputs": [
    {
     "name": "stdout",
     "output_type": "stream",
     "text": [
      "Accuracy: 0.8791208791208791\n",
      "Recall: 0.8791208791208791\n",
      "Precision: 0.8790994371482177\n",
      "Confusion matrix:\n",
      "[[36  6]\n",
      " [ 5 44]]\n"
     ]
    }
   ],
   "source": [
    "from sklearn.metrics import precision_score, recall_score, confusion_matrix, classification_report, accuracy_score, f1_score\n",
    "\n",
    "print ('Accuracy:', accuracy_score(test_y, knnPredict))\n",
    "print ('Recall:', recall_score(test_y, knnPredict, average=\"weighted\"))\n",
    "print ('Precision:', precision_score(test_y, knnPredict, average=\"weighted\"))\n",
    "confusion = confusion_matrix(test_y, knnPredict)\n",
    "print('Confusion matrix:')\n",
    "print(confusion)"
   ]
  },
  {
   "cell_type": "code",
   "execution_count": 33,
   "id": "38f01cfb",
   "metadata": {},
   "outputs": [
    {
     "name": "stdout",
     "output_type": "stream",
     "text": [
      "              precision    recall  f1-score   support\n",
      "\n",
      "           0       0.88      0.86      0.87        42\n",
      "           1       0.88      0.90      0.89        49\n",
      "\n",
      "    accuracy                           0.88        91\n",
      "   macro avg       0.88      0.88      0.88        91\n",
      "weighted avg       0.88      0.88      0.88        91\n",
      "\n"
     ]
    }
   ],
   "source": [
    "Report_KNN=classification_report(test_y, knnPredict)\n",
    "print(Report_KNN)"
   ]
  },
  {
   "cell_type": "markdown",
   "id": "0d434c98",
   "metadata": {},
   "source": [
    "# Prediction 60:40"
   ]
  },
  {
   "cell_type": "code",
   "execution_count": 34,
   "id": "ea2bd91e",
   "metadata": {},
   "outputs": [
    {
     "name": "stdout",
     "output_type": "stream",
     "text": [
      "No. of training examples: 181\n",
      "No. of testing examples: 121\n"
     ]
    }
   ],
   "source": [
    "training_data = ht1.sample(frac=0.6, random_state=42)\n",
    "testing_data = ht1.drop(training_data.index)\n",
    "\n",
    "print(f\"No. of training examples: {training_data.shape[0]}\")\n",
    "print(f\"No. of testing examples: {testing_data.shape[0]}\")"
   ]
  },
  {
   "cell_type": "code",
   "execution_count": 35,
   "id": "5cb5ee7a",
   "metadata": {},
   "outputs": [],
   "source": [
    "# split data with train-60% and test-40%\n",
    "from sklearn.model_selection import train_test_split\n",
    "\n",
    "choosen_x=x\n",
    "choosen_y=ht1['target']\n",
    "\n",
    "unscaled_train_x,unscaled_test_x,train_y,test_y=train_test_split(choosen_x,choosen_y,test_size=0.4,random_state=42)"
   ]
  },
  {
   "cell_type": "code",
   "execution_count": 36,
   "id": "b5d6e02e",
   "metadata": {},
   "outputs": [
    {
     "name": "stdout",
     "output_type": "stream",
     "text": [
      "     age  sex  cp  trestbps  chol  fbs  restecg  thalach  exang  oldpeak  \\\n",
      "0     63    1   3       145   233    1        0      150      0      2.3   \n",
      "1     37    1   2       130   250    0        1      187      0      3.5   \n",
      "2     41    0   1       130   204    0        0      172      0      1.4   \n",
      "3     56    1   1       120   236    0        1      178      0      0.8   \n",
      "4     57    0   0       120   354    0        1      163      1      0.6   \n",
      "..   ...  ...  ..       ...   ...  ...      ...      ...    ...      ...   \n",
      "298   57    0   0       140   241    0        1      123      1      0.2   \n",
      "299   45    1   3       110   264    0        1      132      0      1.2   \n",
      "300   68    1   0       144   193    1        1      141      0      3.4   \n",
      "301   57    1   0       130   131    0        1      115      1      1.2   \n",
      "302   57    0   1       130   236    0        0      174      0      0.0   \n",
      "\n",
      "     slope  ca  thal  target  \n",
      "0        0   0     1       1  \n",
      "1        0   0     2       1  \n",
      "2        2   0     2       1  \n",
      "3        2   0     2       1  \n",
      "4        2   0     2       1  \n",
      "..     ...  ..   ...     ...  \n",
      "298      1   0     3       0  \n",
      "299      1   0     3       0  \n",
      "300      1   2     3       0  \n",
      "301      1   1     3       0  \n",
      "302      1   1     2       0  \n",
      "\n",
      "[302 rows x 14 columns]\n",
      "[[ 0.59760308 -1.33589498 -0.99724137 ... -0.60997491  1.48478624\n",
      "   1.11818425]\n",
      " [ 0.2634131   0.74856184 -0.99724137 ... -0.60997491  0.39232157\n",
      "   1.11818425]\n",
      " [-0.73915684  0.74856184 -0.04723775 ... -2.21005404 -0.7001431\n",
      "   1.11818425]\n",
      " ...\n",
      " [ 1.60017302  0.74856184  1.8527695  ... -0.60997491  0.39232157\n",
      "  -0.54076124]\n",
      " [ 0.70899974  0.74856184  1.8527695  ... -0.60997491  1.48478624\n",
      "  -0.54076124]\n",
      " [ 0.93179306 -1.33589498 -0.04723775 ...  0.99010421  1.48478624\n",
      "  -0.54076124]]\n",
      "[[ 0.09891889  0.5868939  -0.84997084 ... -0.70293025  0.14811158\n",
      "   1.12368607]\n",
      " [ 1.08720029  0.5868939   1.18659295 ... -0.70293025 -0.74796349\n",
      "   1.12368607]\n",
      " [ 0.31853698  0.5868939   1.18659295 ...  0.96480623  0.14811158\n",
      "   1.12368607]\n",
      " ...\n",
      " [ 1.52643646  0.5868939   1.18659295 ...  0.96480623  0.14811158\n",
      "   1.12368607]\n",
      " [ 0.53815507  0.5868939   2.20487485 ...  0.96480623 -0.74796349\n",
      "  -0.4759141 ]\n",
      " [ 0.09891889 -1.7038855  -0.84997084 ... -0.70293025  0.14811158\n",
      "   1.12368607]]\n"
     ]
    }
   ],
   "source": [
    "from sklearn.preprocessing import StandardScaler\n",
    "\n",
    "scaler=StandardScaler()\n",
    "train_x=scaler.fit_transform(unscaled_train_x)\n",
    "test_x=scaler.fit_transform(unscaled_test_x)\n",
    "\n",
    "print(pd.DataFrame(ht1, columns=ht1.columns))\n",
    "print(train_x)\n",
    "print(test_x)"
   ]
  },
  {
   "cell_type": "markdown",
   "id": "893c1d36",
   "metadata": {},
   "source": [
    "##  K value"
   ]
  },
  {
   "cell_type": "code",
   "execution_count": 37,
   "id": "ee58cffa",
   "metadata": {},
   "outputs": [],
   "source": [
    "from sklearn.neighbors import KNeighborsClassifier\n",
    "from sklearn import metrics\n",
    "\n",
    "#Try running from k=1 through 25 and record testing accuracy\n",
    "k_range = range(1,26)\n",
    "scores = {}\n",
    "scores_list = []\n",
    "for k in k_range:\n",
    "        knn = KNeighborsClassifier(n_neighbors=k) #default is 5\n",
    "        knn.fit(train_x,train_y)\n",
    "        pred_y=knn.predict(test_x)\n",
    "        scores[k] = metrics.accuracy_score(test_y,pred_y)\n",
    "        scores_list.append(metrics.accuracy_score(test_y,pred_y))"
   ]
  },
  {
   "cell_type": "code",
   "execution_count": 38,
   "id": "f1c02669",
   "metadata": {},
   "outputs": [
    {
     "data": {
      "text/plain": [
       "{1: 0.7520661157024794,\n",
       " 2: 0.7603305785123967,\n",
       " 3: 0.8429752066115702,\n",
       " 4: 0.8347107438016529,\n",
       " 5: 0.859504132231405,\n",
       " 6: 0.859504132231405,\n",
       " 7: 0.8677685950413223,\n",
       " 8: 0.8264462809917356,\n",
       " 9: 0.859504132231405,\n",
       " 10: 0.8347107438016529,\n",
       " 11: 0.8677685950413223,\n",
       " 12: 0.8429752066115702,\n",
       " 13: 0.8512396694214877,\n",
       " 14: 0.8429752066115702,\n",
       " 15: 0.859504132231405,\n",
       " 16: 0.859504132231405,\n",
       " 17: 0.8429752066115702,\n",
       " 18: 0.8512396694214877,\n",
       " 19: 0.8512396694214877,\n",
       " 20: 0.8512396694214877,\n",
       " 21: 0.8429752066115702,\n",
       " 22: 0.8347107438016529,\n",
       " 23: 0.8347107438016529,\n",
       " 24: 0.8512396694214877,\n",
       " 25: 0.8512396694214877}"
      ]
     },
     "execution_count": 38,
     "metadata": {},
     "output_type": "execute_result"
    }
   ],
   "source": [
    "#show score of k\n",
    "scores"
   ]
  },
  {
   "cell_type": "code",
   "execution_count": 39,
   "id": "49ed73c1",
   "metadata": {},
   "outputs": [
    {
     "data": {
      "text/plain": [
       "Text(0, 0.5, 'Testing Accuracy')"
      ]
     },
     "execution_count": 39,
     "metadata": {},
     "output_type": "execute_result"
    },
    {
     "data": {
      "image/png": "[encoded data removed]",
      "text/plain": [
       "<Figure size 640x480 with 1 Axes>"
      ]
     },
     "metadata": {},
     "output_type": "display_data"
    }
   ],
   "source": [
    "%matplotlib inline\n",
    "import matplotlib.pyplot as plt\n",
    "\n",
    "#plot the relationship between K and the testing accuracy\n",
    "plt.plot(k_range,scores_list)\n",
    "plt.xlabel('Value of K for KNN')\n",
    "plt.ylabel('Testing Accuracy')"
   ]
  },
  {
   "cell_type": "code",
   "execution_count": 40,
   "id": "d5b45a70",
   "metadata": {},
   "outputs": [
    {
     "data": {
      "text/plain": [
       "array([0, 0, 1, 0, 1, 1, 1, 0, 0, 1, 1, 0, 1, 0, 1, 1, 1, 0, 0, 0, 1, 0,\n",
       "       0, 1, 1, 1, 0, 1, 0, 1, 0, 0, 0, 0, 1, 0, 1, 1, 1, 1, 0, 1, 1, 1,\n",
       "       1, 0, 0, 1, 0, 0, 0, 0, 1, 1, 0, 0, 0, 1, 0, 0, 1, 1, 0, 0, 1, 1,\n",
       "       1, 1, 1, 0, 1, 1, 0, 1, 0, 1, 1, 1, 0, 0, 0, 1, 1, 1, 1, 0, 0, 1,\n",
       "       1, 1, 1, 1, 1, 1, 1, 1, 1, 0, 1, 1, 0, 1, 1, 0, 1, 1, 1, 1, 1, 0,\n",
       "       1, 0, 0, 1, 0, 1, 0, 1, 1, 1, 0], dtype=int64)"
      ]
     },
     "execution_count": 40,
     "metadata": {},
     "output_type": "execute_result"
    }
   ],
   "source": [
    "#predict 'target'\n",
    "knn=KNeighborsClassifier(n_neighbors=11)\n",
    "knn.fit(train_x,train_y)\n",
    "knnPredict=knn.predict(test_x)\n",
    "knnPredict"
   ]
  },
  {
   "cell_type": "code",
   "execution_count": 41,
   "id": "d58ab71c",
   "metadata": {},
   "outputs": [
    {
     "name": "stdout",
     "output_type": "stream",
     "text": [
      "Accuracy: 0.8677685950413223\n",
      "Recall: 0.8677685950413223\n",
      "Precision: 0.8675497613781864\n",
      "Confusion matrix:\n",
      "[[43  9]\n",
      " [ 7 62]]\n"
     ]
    }
   ],
   "source": [
    "from sklearn.metrics import precision_score, recall_score, confusion_matrix, classification_report, accuracy_score, f1_score\n",
    "\n",
    "print ('Accuracy:', accuracy_score(test_y, knnPredict))\n",
    "print ('Recall:', recall_score(test_y, knnPredict, average=\"weighted\"))\n",
    "print ('Precision:', precision_score(test_y, knnPredict, average=\"weighted\"))\n",
    "confusion = confusion_matrix(test_y, knnPredict)\n",
    "print('Confusion matrix:')\n",
    "print(confusion)"
   ]
  },
  {
   "cell_type": "code",
   "execution_count": 42,
   "id": "5d1a13e9",
   "metadata": {},
   "outputs": [
    {
     "name": "stdout",
     "output_type": "stream",
     "text": [
      "              precision    recall  f1-score   support\n",
      "\n",
      "           0       0.86      0.83      0.84        52\n",
      "           1       0.87      0.90      0.89        69\n",
      "\n",
      "    accuracy                           0.87       121\n",
      "   macro avg       0.87      0.86      0.86       121\n",
      "weighted avg       0.87      0.87      0.87       121\n",
      "\n"
     ]
    }
   ],
   "source": [
    "Report_KNN=classification_report(test_y, knnPredict)\n",
    "print(Report_KNN)"
   ]
  },
  {
   "cell_type": "markdown",
   "id": "2f11206d",
   "metadata": {},
   "source": [
    "## Using best 5 features 80:20"
   ]
  },
  {
   "cell_type": "code",
   "execution_count": 43,
   "id": "7f624468",
   "metadata": {},
   "outputs": [],
   "source": [
    "features = ['thal','exang','ca','cp','thalach']\n",
    "x = ht1.loc[:, features]\n",
    "y = ht1.loc[:, ['target']]\n",
    "\n",
    "choosen_x=x\n",
    "choosen_y=ht1['target']\n",
    "unscaled_train_x,unscaled_test_x,train_y,test_y=train_test_split(choosen_x,choosen_y,test_size=0.2,random_state=4)\n",
    "\n",
    "from sklearn.preprocessing import StandardScaler\n",
    "\n",
    "scaler=StandardScaler()\n",
    "train_x=scaler.fit_transform(unscaled_train_x)\n",
    "test_x=scaler.fit_transform(unscaled_test_x)                                                                                                                            "
   ]
  },
  {
   "cell_type": "code",
   "execution_count": 44,
   "id": "1435b0cb",
   "metadata": {},
   "outputs": [
    {
     "data": {
      "text/plain": [
       "{1: 0.7704918032786885,\n",
       " 2: 0.7377049180327869,\n",
       " 3: 0.7868852459016393,\n",
       " 4: 0.819672131147541,\n",
       " 5: 0.8360655737704918,\n",
       " 6: 0.8524590163934426,\n",
       " 7: 0.8360655737704918,\n",
       " 8: 0.8524590163934426,\n",
       " 9: 0.8688524590163934,\n",
       " 10: 0.8524590163934426,\n",
       " 11: 0.8688524590163934,\n",
       " 12: 0.8688524590163934,\n",
       " 13: 0.8524590163934426,\n",
       " 14: 0.8360655737704918,\n",
       " 15: 0.819672131147541,\n",
       " 16: 0.819672131147541,\n",
       " 17: 0.819672131147541,\n",
       " 18: 0.8360655737704918,\n",
       " 19: 0.819672131147541,\n",
       " 20: 0.8360655737704918,\n",
       " 21: 0.8524590163934426,\n",
       " 22: 0.8360655737704918,\n",
       " 23: 0.8852459016393442,\n",
       " 24: 0.8852459016393442,\n",
       " 25: 0.8688524590163934}"
      ]
     },
     "execution_count": 44,
     "metadata": {},
     "output_type": "execute_result"
    }
   ],
   "source": [
    "from sklearn.neighbors import KNeighborsClassifier\n",
    "from sklearn import metrics\n",
    "\n",
    "#Try running from k=1 through 25 and record testing accuracy\n",
    "k_range = range(1,26)\n",
    "scores = {}\n",
    "scores_list = []\n",
    "for k in k_range:\n",
    "        knn = KNeighborsClassifier(n_neighbors=k) #default is 5\n",
    "        knn.fit(train_x,train_y)\n",
    "        pred_y=knn.predict(test_x)\n",
    "        scores[k] = metrics.accuracy_score(test_y,pred_y)\n",
    "        scores_list.append(metrics.accuracy_score(test_y,pred_y))\n",
    "        \n",
    "scores"
   ]
  },
  {
   "cell_type": "code",
   "execution_count": 45,
   "id": "bc53d9b8",
   "metadata": {},
   "outputs": [
    {
     "data": {
      "text/plain": [
       "Text(0, 0.5, 'Testing Accuracy')"
      ]
     },
     "execution_count": 45,
     "metadata": {},
     "output_type": "execute_result"
    },
    {
     "data": {
      "image/png": "[encoded data removed]",
      "text/plain": [
       "<Figure size 640x480 with 1 Axes>"
      ]
     },
     "metadata": {},
     "output_type": "display_data"
    }
   ],
   "source": [
    "%matplotlib inline\n",
    "import matplotlib.pyplot as plt\n",
    "\n",
    "#plot the relationship between K and the testing accuracy\n",
    "plt.plot(k_range,scores_list)\n",
    "plt.xlabel('Value of K for KNN')\n",
    "plt.ylabel('Testing Accuracy')"
   ]
  },
  {
   "cell_type": "code",
   "execution_count": 46,
   "id": "29b0f54c",
   "metadata": {},
   "outputs": [
    {
     "data": {
      "text/plain": [
       "array([0, 0, 1, 1, 0, 1, 1, 1, 1, 0, 1, 0, 1, 1, 0, 0, 0, 1, 1, 0, 1, 1,\n",
       "       0, 1, 0, 0, 1, 1, 0, 1, 1, 1, 0, 0, 1, 1, 1, 1, 0, 1, 1, 1, 0, 1,\n",
       "       1, 1, 0, 0, 0, 1, 1, 0, 1, 0, 1, 1, 0, 0, 1, 1, 1], dtype=int64)"
      ]
     },
     "execution_count": 46,
     "metadata": {},
     "output_type": "execute_result"
    }
   ],
   "source": [
    "#predict 'target'\n",
    "knn=KNeighborsClassifier(n_neighbors=23)\n",
    "knn.fit(train_x,train_y)\n",
    "knnPredict=knn.predict(test_x)\n",
    "knnPredict"
   ]
  },
  {
   "cell_type": "code",
   "execution_count": 47,
   "id": "2a5452d9",
   "metadata": {},
   "outputs": [
    {
     "name": "stdout",
     "output_type": "stream",
     "text": [
      "Accuracy: 0.8852459016393442\n",
      "Recall: 0.8852459016393442\n",
      "Precision: 0.8877935312361541\n",
      "Confusion matrix:\n",
      "[[22  5]\n",
      " [ 2 32]]\n"
     ]
    }
   ],
   "source": [
    "from sklearn.metrics import precision_score, recall_score, confusion_matrix, classification_report, accuracy_score, f1_score\n",
    "\n",
    "print ('Accuracy:', accuracy_score(test_y, knnPredict))\n",
    "print ('Recall:', recall_score(test_y, knnPredict, average=\"weighted\"))\n",
    "print ('Precision:', precision_score(test_y, knnPredict, average=\"weighted\"))\n",
    "confusion = confusion_matrix(test_y, knnPredict)\n",
    "print('Confusion matrix:')\n",
    "print(confusion)"
   ]
  },
  {
   "cell_type": "markdown",
   "id": "97d735b8",
   "metadata": {},
   "source": [
    "## Using best 4 features 80:20"
   ]
  },
  {
   "cell_type": "code",
   "execution_count": 50,
   "id": "cfa00a66",
   "metadata": {},
   "outputs": [],
   "source": [
    "features = ['thal','exang','ca','cp']\n",
    "x = ht1.loc[:, features]\n",
    "y = ht1.loc[:, ['target']]\n",
    "\n",
    "choosen_x=x\n",
    "choosen_y=ht1['target']\n",
    "unscaled_train_x,unscaled_test_x,train_y,test_y=train_test_split(choosen_x,choosen_y,test_size=0.2,random_state=42)\n",
    "\n",
    "from sklearn.preprocessing import StandardScaler\n",
    "\n",
    "scaler=StandardScaler()\n",
    "train_x=scaler.fit_transform(unscaled_train_x)\n",
    "test_x=scaler.fit_transform(unscaled_test_x)                                                                                                                            "
   ]
  },
  {
   "cell_type": "code",
   "execution_count": 51,
   "id": "c0f159f5",
   "metadata": {},
   "outputs": [
    {
     "data": {
      "text/plain": [
       "{1: 0.819672131147541,\n",
       " 2: 0.819672131147541,\n",
       " 3: 0.8360655737704918,\n",
       " 4: 0.7868852459016393,\n",
       " 5: 0.8032786885245902,\n",
       " 6: 0.7868852459016393,\n",
       " 7: 0.819672131147541,\n",
       " 8: 0.819672131147541,\n",
       " 9: 0.8524590163934426,\n",
       " 10: 0.819672131147541,\n",
       " 11: 0.8688524590163934,\n",
       " 12: 0.8524590163934426,\n",
       " 13: 0.8688524590163934,\n",
       " 14: 0.8524590163934426,\n",
       " 15: 0.8524590163934426,\n",
       " 16: 0.8524590163934426,\n",
       " 17: 0.8688524590163934,\n",
       " 18: 0.8524590163934426,\n",
       " 19: 0.8524590163934426,\n",
       " 20: 0.8524590163934426,\n",
       " 21: 0.8524590163934426,\n",
       " 22: 0.8524590163934426,\n",
       " 23: 0.8360655737704918,\n",
       " 24: 0.8360655737704918,\n",
       " 25: 0.8524590163934426}"
      ]
     },
     "execution_count": 51,
     "metadata": {},
     "output_type": "execute_result"
    }
   ],
   "source": [
    "from sklearn.neighbors import KNeighborsClassifier\n",
    "from sklearn import metrics\n",
    "\n",
    "#Try running from k=1 through 25 and record testing accuracy\n",
    "k_range = range(1,26)\n",
    "scores = {}\n",
    "scores_list = []\n",
    "for k in k_range:\n",
    "        knn = KNeighborsClassifier(n_neighbors=k) #default is 5\n",
    "        knn.fit(train_x,train_y)\n",
    "        pred_y=knn.predict(test_x)\n",
    "        scores[k] = metrics.accuracy_score(test_y,pred_y)\n",
    "        scores_list.append(metrics.accuracy_score(test_y,pred_y))\n",
    "        \n",
    "scores"
   ]
  },
  {
   "cell_type": "code",
   "execution_count": 52,
   "id": "fc00de52",
   "metadata": {},
   "outputs": [
    {
     "data": {
      "text/plain": [
       "Text(0, 0.5, 'Testing Accuracy')"
      ]
     },
     "execution_count": 52,
     "metadata": {},
     "output_type": "execute_result"
    },
    {
     "data": {
      "image/png": "[encoded data removed]",
      "text/plain": [
       "<Figure size 640x480 with 1 Axes>"
      ]
     },
     "metadata": {},
     "output_type": "display_data"
    }
   ],
   "source": [
    "%matplotlib inline\n",
    "import matplotlib.pyplot as plt\n",
    "\n",
    "#plot the relationship between K and the testing accuracy\n",
    "plt.plot(k_range,scores_list)\n",
    "plt.xlabel('Value of K for KNN')\n",
    "plt.ylabel('Testing Accuracy')"
   ]
  },
  {
   "cell_type": "code",
   "execution_count": 53,
   "id": "ef6e03ed",
   "metadata": {},
   "outputs": [
    {
     "data": {
      "text/plain": [
       "array([0, 1, 1, 0, 1, 1, 0, 0, 0, 1, 1, 1, 1, 0, 1, 1, 1, 0, 0, 0, 1, 0,\n",
       "       1, 1, 1, 0, 0, 0, 0, 1, 0, 0, 0, 0, 1, 0, 1, 1, 1, 1, 1, 1, 1, 1,\n",
       "       1, 0, 0, 1, 0, 0, 0, 0, 1, 1, 0, 0, 0, 1, 0, 1, 1], dtype=int64)"
      ]
     },
     "execution_count": 53,
     "metadata": {},
     "output_type": "execute_result"
    }
   ],
   "source": [
    "#predict 'target'\n",
    "knn=KNeighborsClassifier(n_neighbors=11)\n",
    "knn.fit(train_x,train_y)\n",
    "knnPredict=knn.predict(test_x)\n",
    "knnPredict"
   ]
  },
  {
   "cell_type": "code",
   "execution_count": 54,
   "id": "b9e4695a",
   "metadata": {},
   "outputs": [
    {
     "name": "stdout",
     "output_type": "stream",
     "text": [
      "Accuracy: 0.8688524590163934\n",
      "Recall: 0.8688524590163934\n",
      "Precision: 0.8688524590163934\n",
      "Confusion matrix:\n",
      "[[25  4]\n",
      " [ 4 28]]\n"
     ]
    }
   ],
   "source": [
    "from sklearn.metrics import precision_score, recall_score, confusion_matrix, classification_report, accuracy_score, f1_score\n",
    "\n",
    "print ('Accuracy:', accuracy_score(test_y, knnPredict))\n",
    "print ('Recall:', recall_score(test_y, knnPredict, average=\"weighted\"))\n",
    "print ('Precision:', precision_score(test_y, knnPredict, average=\"weighted\"))\n",
    "confusion = confusion_matrix(test_y, knnPredict)\n",
    "print('Confusion matrix:')\n",
    "print(confusion)"
   ]
  },
  {
   "cell_type": "markdown",
   "id": "ec6b04a3",
   "metadata": {},
   "source": [
    "## Using best 3 features 80:20"
   ]
  },
  {
   "cell_type": "code",
   "execution_count": 55,
   "id": "6399a691",
   "metadata": {},
   "outputs": [],
   "source": [
    "features = ['exang','ca','cp']\n",
    "x = ht1.loc[:, features]\n",
    "y = ht1.loc[:, ['target']]\n",
    "\n",
    "choosen_x=x\n",
    "choosen_y=ht1['target']\n",
    "unscaled_train_x,unscaled_test_x,train_y,test_y=train_test_split(choosen_x,choosen_y,test_size=0.2,random_state=4)\n",
    "\n",
    "from sklearn.preprocessing import StandardScaler\n",
    "\n",
    "scaler=StandardScaler()\n",
    "train_x=scaler.fit_transform(unscaled_train_x)\n",
    "test_x=scaler.fit_transform(unscaled_test_x)                                                                                                                            "
   ]
  },
  {
   "cell_type": "code",
   "execution_count": 56,
   "id": "29532cd6",
   "metadata": {},
   "outputs": [
    {
     "data": {
      "text/plain": [
       "{1: 0.7704918032786885,\n",
       " 2: 0.7704918032786885,\n",
       " 3: 0.8360655737704918,\n",
       " 4: 0.8032786885245902,\n",
       " 5: 0.8360655737704918,\n",
       " 6: 0.8360655737704918,\n",
       " 7: 0.8360655737704918,\n",
       " 8: 0.8360655737704918,\n",
       " 9: 0.8360655737704918,\n",
       " 10: 0.8360655737704918,\n",
       " 11: 0.8524590163934426,\n",
       " 12: 0.8360655737704918,\n",
       " 13: 0.8524590163934426,\n",
       " 14: 0.8360655737704918,\n",
       " 15: 0.8360655737704918,\n",
       " 16: 0.8360655737704918,\n",
       " 17: 0.8360655737704918,\n",
       " 18: 0.8360655737704918,\n",
       " 19: 0.8360655737704918,\n",
       " 20: 0.8360655737704918,\n",
       " 21: 0.8524590163934426,\n",
       " 22: 0.8524590163934426,\n",
       " 23: 0.819672131147541,\n",
       " 24: 0.819672131147541,\n",
       " 25: 0.819672131147541}"
      ]
     },
     "execution_count": 56,
     "metadata": {},
     "output_type": "execute_result"
    }
   ],
   "source": [
    "from sklearn.neighbors import KNeighborsClassifier\n",
    "from sklearn import metrics\n",
    "\n",
    "#Try running from k=1 through 25 and record testing accuracy\n",
    "k_range = range(1,26)\n",
    "scores = {}\n",
    "scores_list = []\n",
    "for k in k_range:\n",
    "        knn = KNeighborsClassifier(n_neighbors=k) #default is 5\n",
    "        knn.fit(train_x,train_y)\n",
    "        pred_y=knn.predict(test_x)\n",
    "        scores[k] = metrics.accuracy_score(test_y,pred_y)\n",
    "        scores_list.append(metrics.accuracy_score(test_y,pred_y))\n",
    "        \n",
    "scores"
   ]
  },
  {
   "cell_type": "code",
   "execution_count": 57,
   "id": "bad564d3",
   "metadata": {},
   "outputs": [
    {
     "data": {
      "text/plain": [
       "Text(0, 0.5, 'Testing Accuracy')"
      ]
     },
     "execution_count": 57,
     "metadata": {},
     "output_type": "execute_result"
    },
    {
     "data": {
      "image/png": "[encoded data removed]",
      "text/plain": [
       "<Figure size 640x480 with 1 Axes>"
      ]
     },
     "metadata": {},
     "output_type": "display_data"
    }
   ],
   "source": [
    "%matplotlib inline\n",
    "import matplotlib.pyplot as plt\n",
    "\n",
    "#plot the relationship between K and the testing accuracy\n",
    "plt.plot(k_range,scores_list)\n",
    "plt.xlabel('Value of K for KNN')\n",
    "plt.ylabel('Testing Accuracy')"
   ]
  },
  {
   "cell_type": "code",
   "execution_count": 58,
   "id": "d88c5c24",
   "metadata": {},
   "outputs": [
    {
     "data": {
      "text/plain": [
       "array([0, 1, 1, 1, 0, 1, 0, 0, 1, 0, 1, 0, 1, 1, 1, 0, 0, 1, 1, 0, 1, 1,\n",
       "       1, 1, 0, 0, 1, 1, 0, 1, 1, 1, 0, 0, 1, 1, 1, 0, 1, 1, 1, 0, 1, 1,\n",
       "       1, 1, 0, 1, 0, 1, 1, 0, 1, 0, 1, 1, 0, 0, 1, 1, 1], dtype=int64)"
      ]
     },
     "execution_count": 58,
     "metadata": {},
     "output_type": "execute_result"
    }
   ],
   "source": [
    "#predict 'target'\n",
    "knn=KNeighborsClassifier(n_neighbors=13)\n",
    "knn.fit(train_x,train_y)\n",
    "knnPredict=knn.predict(test_x)\n",
    "knnPredict"
   ]
  },
  {
   "cell_type": "code",
   "execution_count": 59,
   "id": "caa79654",
   "metadata": {},
   "outputs": [
    {
     "name": "stdout",
     "output_type": "stream",
     "text": [
      "Accuracy: 0.8524590163934426\n",
      "Recall: 0.8524590163934426\n",
      "Precision: 0.8597195154572204\n",
      "Confusion matrix:\n",
      "[[20  7]\n",
      " [ 2 32]]\n"
     ]
    }
   ],
   "source": [
    "from sklearn.metrics import precision_score, recall_score, confusion_matrix, classification_report, accuracy_score, f1_score\n",
    "\n",
    "print ('Accuracy:', accuracy_score(test_y, knnPredict))\n",
    "print ('Recall:', recall_score(test_y, knnPredict, average=\"weighted\"))\n",
    "print ('Precision:', precision_score(test_y, knnPredict, average=\"weighted\"))\n",
    "confusion = confusion_matrix(test_y, knnPredict)\n",
    "print('Confusion matrix:')\n",
    "print(confusion)"
   ]
  }
 ],
 "metadata": {
  "kernelspec": {
   "display_name": "Python 3 (ipykernel)",
   "language": "python",
   "name": "python3"
  },
  "language_info": {
   "codemirror_mode": {
    "name": "ipython",
    "version": 3
   },
   "file_extension": ".py",
   "mimetype": "text/x-python",
   "name": "python",
   "nbconvert_exporter": "python",
   "pygments_lexer": "ipython3",
   "version": "3.10.9"
  }
 },
 "nbformat": 4,
 "nbformat_minor": 5
}
